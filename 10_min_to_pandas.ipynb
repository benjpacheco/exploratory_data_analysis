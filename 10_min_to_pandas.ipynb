{
 "cells": [
  {
   "cell_type": "code",
   "execution_count": 1,
   "metadata": {
    "pycharm": {
     "name": "#%%\n"
    }
   },
   "outputs": [],
   "source": [
    "import numpy as np\n",
    "import pandas as pd"
   ]
  },
  {
   "cell_type": "code",
   "execution_count": 2,
   "metadata": {},
   "outputs": [],
   "source": [
    "s = pd.Series([1, 3, 5, np.nan, 6, 8])"
   ]
  },
  {
   "cell_type": "code",
   "execution_count": 3,
   "metadata": {},
   "outputs": [
    {
     "data": {
      "text/plain": "0    1.0\n1    3.0\n2    5.0\n3    NaN\n4    6.0\n5    8.0\ndtype: float64"
     },
     "execution_count": 3,
     "metadata": {},
     "output_type": "execute_result"
    }
   ],
   "source": [
    "s"
   ]
  },
  {
   "cell_type": "code",
   "execution_count": 4,
   "metadata": {},
   "outputs": [],
   "source": [
    "dates = pd.date_range(\"20130101\", periods = 6)"
   ]
  },
  {
   "cell_type": "code",
   "execution_count": 5,
   "metadata": {},
   "outputs": [
    {
     "data": {
      "text/plain": "DatetimeIndex(['2013-01-01', '2013-01-02', '2013-01-03', '2013-01-04',\n               '2013-01-05', '2013-01-06'],\n              dtype='datetime64[ns]', freq='D')"
     },
     "execution_count": 5,
     "metadata": {},
     "output_type": "execute_result"
    }
   ],
   "source": [
    "dates"
   ]
  },
  {
   "cell_type": "code",
   "execution_count": 6,
   "metadata": {},
   "outputs": [],
   "source": [
    "df = pd.DataFrame(np.random.randn(6, 4), index = dates, columns = list(\"ABCD\"))"
   ]
  },
  {
   "cell_type": "code",
   "execution_count": 7,
   "metadata": {},
   "outputs": [
    {
     "data": {
      "text/plain": "                   A         B         C         D\n2013-01-01 -1.108578 -1.455718 -1.255487  0.322604\n2013-01-02  0.346927  0.582459 -2.182296 -1.048186\n2013-01-03  0.050946  1.392522 -0.105310  1.117128\n2013-01-04 -0.507630 -0.490599 -0.669263  0.904037\n2013-01-05  0.315369 -0.304080 -0.698243  0.896217\n2013-01-06 -1.687627  0.321909 -0.118029  0.106965",
      "text/html": "<div>\n<style scoped>\n    .dataframe tbody tr th:only-of-type {\n        vertical-align: middle;\n    }\n\n    .dataframe tbody tr th {\n        vertical-align: top;\n    }\n\n    .dataframe thead th {\n        text-align: right;\n    }\n</style>\n<table border=\"1\" class=\"dataframe\">\n  <thead>\n    <tr style=\"text-align: right;\">\n      <th></th>\n      <th>A</th>\n      <th>B</th>\n      <th>C</th>\n      <th>D</th>\n    </tr>\n  </thead>\n  <tbody>\n    <tr>\n      <th>2013-01-01</th>\n      <td>-1.108578</td>\n      <td>-1.455718</td>\n      <td>-1.255487</td>\n      <td>0.322604</td>\n    </tr>\n    <tr>\n      <th>2013-01-02</th>\n      <td>0.346927</td>\n      <td>0.582459</td>\n      <td>-2.182296</td>\n      <td>-1.048186</td>\n    </tr>\n    <tr>\n      <th>2013-01-03</th>\n      <td>0.050946</td>\n      <td>1.392522</td>\n      <td>-0.105310</td>\n      <td>1.117128</td>\n    </tr>\n    <tr>\n      <th>2013-01-04</th>\n      <td>-0.507630</td>\n      <td>-0.490599</td>\n      <td>-0.669263</td>\n      <td>0.904037</td>\n    </tr>\n    <tr>\n      <th>2013-01-05</th>\n      <td>0.315369</td>\n      <td>-0.304080</td>\n      <td>-0.698243</td>\n      <td>0.896217</td>\n    </tr>\n    <tr>\n      <th>2013-01-06</th>\n      <td>-1.687627</td>\n      <td>0.321909</td>\n      <td>-0.118029</td>\n      <td>0.106965</td>\n    </tr>\n  </tbody>\n</table>\n</div>"
     },
     "execution_count": 7,
     "metadata": {},
     "output_type": "execute_result"
    }
   ],
   "source": [
    "df\n"
   ]
  },
  {
   "cell_type": "code",
   "execution_count": 8,
   "metadata": {},
   "outputs": [],
   "source": [
    "df2 = pd.DataFrame({\"A\": 1.0, \"B\": pd.Timestamp(\"20130102\"), \"C\": pd.Series(1, index = list(range(4)), dtype = \"float32\"), \n",
    "                    \"D\": np.array([3]*4, dtype = \"int32\"), \"E\": pd.Categorical([\"test\", \"train\", \"test\", \"train\"]), \"F\": \"foo\"})\n"
   ]
  },
  {
   "cell_type": "code",
   "execution_count": 9,
   "metadata": {},
   "outputs": [
    {
     "data": {
      "text/plain": "     A          B    C  D      E    F\n0  1.0 2013-01-02  1.0  3   test  foo\n1  1.0 2013-01-02  1.0  3  train  foo\n2  1.0 2013-01-02  1.0  3   test  foo\n3  1.0 2013-01-02  1.0  3  train  foo",
      "text/html": "<div>\n<style scoped>\n    .dataframe tbody tr th:only-of-type {\n        vertical-align: middle;\n    }\n\n    .dataframe tbody tr th {\n        vertical-align: top;\n    }\n\n    .dataframe thead th {\n        text-align: right;\n    }\n</style>\n<table border=\"1\" class=\"dataframe\">\n  <thead>\n    <tr style=\"text-align: right;\">\n      <th></th>\n      <th>A</th>\n      <th>B</th>\n      <th>C</th>\n      <th>D</th>\n      <th>E</th>\n      <th>F</th>\n    </tr>\n  </thead>\n  <tbody>\n    <tr>\n      <th>0</th>\n      <td>1.0</td>\n      <td>2013-01-02</td>\n      <td>1.0</td>\n      <td>3</td>\n      <td>test</td>\n      <td>foo</td>\n    </tr>\n    <tr>\n      <th>1</th>\n      <td>1.0</td>\n      <td>2013-01-02</td>\n      <td>1.0</td>\n      <td>3</td>\n      <td>train</td>\n      <td>foo</td>\n    </tr>\n    <tr>\n      <th>2</th>\n      <td>1.0</td>\n      <td>2013-01-02</td>\n      <td>1.0</td>\n      <td>3</td>\n      <td>test</td>\n      <td>foo</td>\n    </tr>\n    <tr>\n      <th>3</th>\n      <td>1.0</td>\n      <td>2013-01-02</td>\n      <td>1.0</td>\n      <td>3</td>\n      <td>train</td>\n      <td>foo</td>\n    </tr>\n  </tbody>\n</table>\n</div>"
     },
     "execution_count": 9,
     "metadata": {},
     "output_type": "execute_result"
    }
   ],
   "source": [
    "df2"
   ]
  },
  {
   "cell_type": "code",
   "execution_count": 10,
   "metadata": {},
   "outputs": [
    {
     "data": {
      "text/plain": "A           float64\nB    datetime64[ns]\nC           float32\nD             int32\nE          category\nF            object\ndtype: object"
     },
     "execution_count": 10,
     "metadata": {},
     "output_type": "execute_result"
    }
   ],
   "source": [
    "df2.dtypes"
   ]
  },
  {
   "cell_type": "markdown",
   "metadata": {},
   "source": [
    "## Viewing Data"
   ]
  },
  {
   "cell_type": "code",
   "execution_count": 11,
   "metadata": {},
   "outputs": [
    {
     "data": {
      "text/plain": "                   A         B         C         D\n2013-01-01 -1.108578 -1.455718 -1.255487  0.322604\n2013-01-02  0.346927  0.582459 -2.182296 -1.048186\n2013-01-03  0.050946  1.392522 -0.105310  1.117128\n2013-01-04 -0.507630 -0.490599 -0.669263  0.904037\n2013-01-05  0.315369 -0.304080 -0.698243  0.896217",
      "text/html": "<div>\n<style scoped>\n    .dataframe tbody tr th:only-of-type {\n        vertical-align: middle;\n    }\n\n    .dataframe tbody tr th {\n        vertical-align: top;\n    }\n\n    .dataframe thead th {\n        text-align: right;\n    }\n</style>\n<table border=\"1\" class=\"dataframe\">\n  <thead>\n    <tr style=\"text-align: right;\">\n      <th></th>\n      <th>A</th>\n      <th>B</th>\n      <th>C</th>\n      <th>D</th>\n    </tr>\n  </thead>\n  <tbody>\n    <tr>\n      <th>2013-01-01</th>\n      <td>-1.108578</td>\n      <td>-1.455718</td>\n      <td>-1.255487</td>\n      <td>0.322604</td>\n    </tr>\n    <tr>\n      <th>2013-01-02</th>\n      <td>0.346927</td>\n      <td>0.582459</td>\n      <td>-2.182296</td>\n      <td>-1.048186</td>\n    </tr>\n    <tr>\n      <th>2013-01-03</th>\n      <td>0.050946</td>\n      <td>1.392522</td>\n      <td>-0.105310</td>\n      <td>1.117128</td>\n    </tr>\n    <tr>\n      <th>2013-01-04</th>\n      <td>-0.507630</td>\n      <td>-0.490599</td>\n      <td>-0.669263</td>\n      <td>0.904037</td>\n    </tr>\n    <tr>\n      <th>2013-01-05</th>\n      <td>0.315369</td>\n      <td>-0.304080</td>\n      <td>-0.698243</td>\n      <td>0.896217</td>\n    </tr>\n  </tbody>\n</table>\n</div>"
     },
     "execution_count": 11,
     "metadata": {},
     "output_type": "execute_result"
    }
   ],
   "source": [
    "df.head()"
   ]
  },
  {
   "cell_type": "code",
   "execution_count": 12,
   "metadata": {},
   "outputs": [
    {
     "data": {
      "text/plain": "                   A         B         C         D\n2013-01-04 -0.507630 -0.490599 -0.669263  0.904037\n2013-01-05  0.315369 -0.304080 -0.698243  0.896217\n2013-01-06 -1.687627  0.321909 -0.118029  0.106965",
      "text/html": "<div>\n<style scoped>\n    .dataframe tbody tr th:only-of-type {\n        vertical-align: middle;\n    }\n\n    .dataframe tbody tr th {\n        vertical-align: top;\n    }\n\n    .dataframe thead th {\n        text-align: right;\n    }\n</style>\n<table border=\"1\" class=\"dataframe\">\n  <thead>\n    <tr style=\"text-align: right;\">\n      <th></th>\n      <th>A</th>\n      <th>B</th>\n      <th>C</th>\n      <th>D</th>\n    </tr>\n  </thead>\n  <tbody>\n    <tr>\n      <th>2013-01-04</th>\n      <td>-0.507630</td>\n      <td>-0.490599</td>\n      <td>-0.669263</td>\n      <td>0.904037</td>\n    </tr>\n    <tr>\n      <th>2013-01-05</th>\n      <td>0.315369</td>\n      <td>-0.304080</td>\n      <td>-0.698243</td>\n      <td>0.896217</td>\n    </tr>\n    <tr>\n      <th>2013-01-06</th>\n      <td>-1.687627</td>\n      <td>0.321909</td>\n      <td>-0.118029</td>\n      <td>0.106965</td>\n    </tr>\n  </tbody>\n</table>\n</div>"
     },
     "execution_count": 12,
     "metadata": {},
     "output_type": "execute_result"
    }
   ],
   "source": [
    "df.tail(3)"
   ]
  },
  {
   "cell_type": "code",
   "execution_count": 13,
   "metadata": {},
   "outputs": [
    {
     "data": {
      "text/plain": "DatetimeIndex(['2013-01-01', '2013-01-02', '2013-01-03', '2013-01-04',\n               '2013-01-05', '2013-01-06'],\n              dtype='datetime64[ns]', freq='D')"
     },
     "execution_count": 13,
     "metadata": {},
     "output_type": "execute_result"
    }
   ],
   "source": [
    "df.index"
   ]
  },
  {
   "cell_type": "code",
   "execution_count": 14,
   "metadata": {},
   "outputs": [
    {
     "data": {
      "text/plain": "Index(['A', 'B', 'C', 'D'], dtype='object')"
     },
     "execution_count": 14,
     "metadata": {},
     "output_type": "execute_result"
    }
   ],
   "source": [
    "df.columns"
   ]
  },
  {
   "cell_type": "code",
   "execution_count": 15,
   "metadata": {},
   "outputs": [
    {
     "data": {
      "text/plain": "array([[-1.10857758, -1.45571826, -1.25548739,  0.32260367],\n       [ 0.34692654,  0.58245942, -2.182296  , -1.04818565],\n       [ 0.05094631,  1.39252206, -0.10530975,  1.1171285 ],\n       [-0.50763021, -0.49059858, -0.66926275,  0.90403712],\n       [ 0.31536894, -0.30408041, -0.69824254,  0.89621712],\n       [-1.68762678,  0.32190922, -0.11802894,  0.10696514]])"
     },
     "execution_count": 15,
     "metadata": {},
     "output_type": "execute_result"
    }
   ],
   "source": [
    "df.to_numpy()"
   ]
  },
  {
   "cell_type": "code",
   "execution_count": 16,
   "metadata": {},
   "outputs": [
    {
     "data": {
      "text/plain": "array([[1.0, Timestamp('2013-01-02 00:00:00'), 1.0, 3, 'test', 'foo'],\n       [1.0, Timestamp('2013-01-02 00:00:00'), 1.0, 3, 'train', 'foo'],\n       [1.0, Timestamp('2013-01-02 00:00:00'), 1.0, 3, 'test', 'foo'],\n       [1.0, Timestamp('2013-01-02 00:00:00'), 1.0, 3, 'train', 'foo']],\n      dtype=object)"
     },
     "execution_count": 16,
     "metadata": {},
     "output_type": "execute_result"
    }
   ],
   "source": [
    "df2.to_numpy()"
   ]
  },
  {
   "cell_type": "code",
   "execution_count": 17,
   "metadata": {},
   "outputs": [
    {
     "data": {
      "text/plain": "              A         B         C         D\ncount  6.000000  6.000000  6.000000  6.000000\nmean  -0.431765  0.007749 -0.838105  0.383128\nstd    0.829289  0.983251  0.785446  0.800244\nmin   -1.687627 -1.455718 -2.182296 -1.048186\n25%   -0.958341 -0.443969 -1.116176  0.160875\n50%   -0.228342  0.008914 -0.683753  0.609410\n75%    0.249263  0.517322 -0.255837  0.902082\nmax    0.346927  1.392522 -0.105310  1.117128",
      "text/html": "<div>\n<style scoped>\n    .dataframe tbody tr th:only-of-type {\n        vertical-align: middle;\n    }\n\n    .dataframe tbody tr th {\n        vertical-align: top;\n    }\n\n    .dataframe thead th {\n        text-align: right;\n    }\n</style>\n<table border=\"1\" class=\"dataframe\">\n  <thead>\n    <tr style=\"text-align: right;\">\n      <th></th>\n      <th>A</th>\n      <th>B</th>\n      <th>C</th>\n      <th>D</th>\n    </tr>\n  </thead>\n  <tbody>\n    <tr>\n      <th>count</th>\n      <td>6.000000</td>\n      <td>6.000000</td>\n      <td>6.000000</td>\n      <td>6.000000</td>\n    </tr>\n    <tr>\n      <th>mean</th>\n      <td>-0.431765</td>\n      <td>0.007749</td>\n      <td>-0.838105</td>\n      <td>0.383128</td>\n    </tr>\n    <tr>\n      <th>std</th>\n      <td>0.829289</td>\n      <td>0.983251</td>\n      <td>0.785446</td>\n      <td>0.800244</td>\n    </tr>\n    <tr>\n      <th>min</th>\n      <td>-1.687627</td>\n      <td>-1.455718</td>\n      <td>-2.182296</td>\n      <td>-1.048186</td>\n    </tr>\n    <tr>\n      <th>25%</th>\n      <td>-0.958341</td>\n      <td>-0.443969</td>\n      <td>-1.116176</td>\n      <td>0.160875</td>\n    </tr>\n    <tr>\n      <th>50%</th>\n      <td>-0.228342</td>\n      <td>0.008914</td>\n      <td>-0.683753</td>\n      <td>0.609410</td>\n    </tr>\n    <tr>\n      <th>75%</th>\n      <td>0.249263</td>\n      <td>0.517322</td>\n      <td>-0.255837</td>\n      <td>0.902082</td>\n    </tr>\n    <tr>\n      <th>max</th>\n      <td>0.346927</td>\n      <td>1.392522</td>\n      <td>-0.105310</td>\n      <td>1.117128</td>\n    </tr>\n  </tbody>\n</table>\n</div>"
     },
     "execution_count": 17,
     "metadata": {},
     "output_type": "execute_result"
    }
   ],
   "source": [
    "df.describe()"
   ]
  },
  {
   "cell_type": "code",
   "execution_count": 18,
   "metadata": {},
   "outputs": [
    {
     "data": {
      "text/plain": "                   A         B         C         D\n2013-01-01 -1.108578 -1.455718 -1.255487  0.322604\n2013-01-02  0.346927  0.582459 -2.182296 -1.048186\n2013-01-03  0.050946  1.392522 -0.105310  1.117128\n2013-01-04 -0.507630 -0.490599 -0.669263  0.904037\n2013-01-05  0.315369 -0.304080 -0.698243  0.896217\n2013-01-06 -1.687627  0.321909 -0.118029  0.106965",
      "text/html": "<div>\n<style scoped>\n    .dataframe tbody tr th:only-of-type {\n        vertical-align: middle;\n    }\n\n    .dataframe tbody tr th {\n        vertical-align: top;\n    }\n\n    .dataframe thead th {\n        text-align: right;\n    }\n</style>\n<table border=\"1\" class=\"dataframe\">\n  <thead>\n    <tr style=\"text-align: right;\">\n      <th></th>\n      <th>A</th>\n      <th>B</th>\n      <th>C</th>\n      <th>D</th>\n    </tr>\n  </thead>\n  <tbody>\n    <tr>\n      <th>2013-01-01</th>\n      <td>-1.108578</td>\n      <td>-1.455718</td>\n      <td>-1.255487</td>\n      <td>0.322604</td>\n    </tr>\n    <tr>\n      <th>2013-01-02</th>\n      <td>0.346927</td>\n      <td>0.582459</td>\n      <td>-2.182296</td>\n      <td>-1.048186</td>\n    </tr>\n    <tr>\n      <th>2013-01-03</th>\n      <td>0.050946</td>\n      <td>1.392522</td>\n      <td>-0.105310</td>\n      <td>1.117128</td>\n    </tr>\n    <tr>\n      <th>2013-01-04</th>\n      <td>-0.507630</td>\n      <td>-0.490599</td>\n      <td>-0.669263</td>\n      <td>0.904037</td>\n    </tr>\n    <tr>\n      <th>2013-01-05</th>\n      <td>0.315369</td>\n      <td>-0.304080</td>\n      <td>-0.698243</td>\n      <td>0.896217</td>\n    </tr>\n    <tr>\n      <th>2013-01-06</th>\n      <td>-1.687627</td>\n      <td>0.321909</td>\n      <td>-0.118029</td>\n      <td>0.106965</td>\n    </tr>\n  </tbody>\n</table>\n</div>"
     },
     "execution_count": 18,
     "metadata": {},
     "output_type": "execute_result"
    }
   ],
   "source": [
    "df"
   ]
  },
  {
   "cell_type": "code",
   "execution_count": 19,
   "metadata": {},
   "outputs": [
    {
     "data": {
      "text/plain": "   2013-01-01  2013-01-02  2013-01-03  2013-01-04  2013-01-05  2013-01-06\nA   -1.108578    0.346927    0.050946   -0.507630    0.315369   -1.687627\nB   -1.455718    0.582459    1.392522   -0.490599   -0.304080    0.321909\nC   -1.255487   -2.182296   -0.105310   -0.669263   -0.698243   -0.118029\nD    0.322604   -1.048186    1.117128    0.904037    0.896217    0.106965",
      "text/html": "<div>\n<style scoped>\n    .dataframe tbody tr th:only-of-type {\n        vertical-align: middle;\n    }\n\n    .dataframe tbody tr th {\n        vertical-align: top;\n    }\n\n    .dataframe thead th {\n        text-align: right;\n    }\n</style>\n<table border=\"1\" class=\"dataframe\">\n  <thead>\n    <tr style=\"text-align: right;\">\n      <th></th>\n      <th>2013-01-01</th>\n      <th>2013-01-02</th>\n      <th>2013-01-03</th>\n      <th>2013-01-04</th>\n      <th>2013-01-05</th>\n      <th>2013-01-06</th>\n    </tr>\n  </thead>\n  <tbody>\n    <tr>\n      <th>A</th>\n      <td>-1.108578</td>\n      <td>0.346927</td>\n      <td>0.050946</td>\n      <td>-0.507630</td>\n      <td>0.315369</td>\n      <td>-1.687627</td>\n    </tr>\n    <tr>\n      <th>B</th>\n      <td>-1.455718</td>\n      <td>0.582459</td>\n      <td>1.392522</td>\n      <td>-0.490599</td>\n      <td>-0.304080</td>\n      <td>0.321909</td>\n    </tr>\n    <tr>\n      <th>C</th>\n      <td>-1.255487</td>\n      <td>-2.182296</td>\n      <td>-0.105310</td>\n      <td>-0.669263</td>\n      <td>-0.698243</td>\n      <td>-0.118029</td>\n    </tr>\n    <tr>\n      <th>D</th>\n      <td>0.322604</td>\n      <td>-1.048186</td>\n      <td>1.117128</td>\n      <td>0.904037</td>\n      <td>0.896217</td>\n      <td>0.106965</td>\n    </tr>\n  </tbody>\n</table>\n</div>"
     },
     "execution_count": 19,
     "metadata": {},
     "output_type": "execute_result"
    }
   ],
   "source": [
    "df.T"
   ]
  },
  {
   "cell_type": "code",
   "execution_count": 20,
   "metadata": {},
   "outputs": [
    {
     "data": {
      "text/plain": "                   D         C         B         A\n2013-01-01  0.322604 -1.255487 -1.455718 -1.108578\n2013-01-02 -1.048186 -2.182296  0.582459  0.346927\n2013-01-03  1.117128 -0.105310  1.392522  0.050946\n2013-01-04  0.904037 -0.669263 -0.490599 -0.507630\n2013-01-05  0.896217 -0.698243 -0.304080  0.315369\n2013-01-06  0.106965 -0.118029  0.321909 -1.687627",
      "text/html": "<div>\n<style scoped>\n    .dataframe tbody tr th:only-of-type {\n        vertical-align: middle;\n    }\n\n    .dataframe tbody tr th {\n        vertical-align: top;\n    }\n\n    .dataframe thead th {\n        text-align: right;\n    }\n</style>\n<table border=\"1\" class=\"dataframe\">\n  <thead>\n    <tr style=\"text-align: right;\">\n      <th></th>\n      <th>D</th>\n      <th>C</th>\n      <th>B</th>\n      <th>A</th>\n    </tr>\n  </thead>\n  <tbody>\n    <tr>\n      <th>2013-01-01</th>\n      <td>0.322604</td>\n      <td>-1.255487</td>\n      <td>-1.455718</td>\n      <td>-1.108578</td>\n    </tr>\n    <tr>\n      <th>2013-01-02</th>\n      <td>-1.048186</td>\n      <td>-2.182296</td>\n      <td>0.582459</td>\n      <td>0.346927</td>\n    </tr>\n    <tr>\n      <th>2013-01-03</th>\n      <td>1.117128</td>\n      <td>-0.105310</td>\n      <td>1.392522</td>\n      <td>0.050946</td>\n    </tr>\n    <tr>\n      <th>2013-01-04</th>\n      <td>0.904037</td>\n      <td>-0.669263</td>\n      <td>-0.490599</td>\n      <td>-0.507630</td>\n    </tr>\n    <tr>\n      <th>2013-01-05</th>\n      <td>0.896217</td>\n      <td>-0.698243</td>\n      <td>-0.304080</td>\n      <td>0.315369</td>\n    </tr>\n    <tr>\n      <th>2013-01-06</th>\n      <td>0.106965</td>\n      <td>-0.118029</td>\n      <td>0.321909</td>\n      <td>-1.687627</td>\n    </tr>\n  </tbody>\n</table>\n</div>"
     },
     "execution_count": 20,
     "metadata": {},
     "output_type": "execute_result"
    }
   ],
   "source": [
    "df.sort_index(axis=1, ascending=False)"
   ]
  },
  {
   "cell_type": "code",
   "execution_count": 21,
   "metadata": {},
   "outputs": [
    {
     "data": {
      "text/plain": "                   A         B         C         D\n2013-01-01 -1.108578 -1.455718 -1.255487  0.322604\n2013-01-04 -0.507630 -0.490599 -0.669263  0.904037\n2013-01-05  0.315369 -0.304080 -0.698243  0.896217\n2013-01-06 -1.687627  0.321909 -0.118029  0.106965\n2013-01-02  0.346927  0.582459 -2.182296 -1.048186\n2013-01-03  0.050946  1.392522 -0.105310  1.117128",
      "text/html": "<div>\n<style scoped>\n    .dataframe tbody tr th:only-of-type {\n        vertical-align: middle;\n    }\n\n    .dataframe tbody tr th {\n        vertical-align: top;\n    }\n\n    .dataframe thead th {\n        text-align: right;\n    }\n</style>\n<table border=\"1\" class=\"dataframe\">\n  <thead>\n    <tr style=\"text-align: right;\">\n      <th></th>\n      <th>A</th>\n      <th>B</th>\n      <th>C</th>\n      <th>D</th>\n    </tr>\n  </thead>\n  <tbody>\n    <tr>\n      <th>2013-01-01</th>\n      <td>-1.108578</td>\n      <td>-1.455718</td>\n      <td>-1.255487</td>\n      <td>0.322604</td>\n    </tr>\n    <tr>\n      <th>2013-01-04</th>\n      <td>-0.507630</td>\n      <td>-0.490599</td>\n      <td>-0.669263</td>\n      <td>0.904037</td>\n    </tr>\n    <tr>\n      <th>2013-01-05</th>\n      <td>0.315369</td>\n      <td>-0.304080</td>\n      <td>-0.698243</td>\n      <td>0.896217</td>\n    </tr>\n    <tr>\n      <th>2013-01-06</th>\n      <td>-1.687627</td>\n      <td>0.321909</td>\n      <td>-0.118029</td>\n      <td>0.106965</td>\n    </tr>\n    <tr>\n      <th>2013-01-02</th>\n      <td>0.346927</td>\n      <td>0.582459</td>\n      <td>-2.182296</td>\n      <td>-1.048186</td>\n    </tr>\n    <tr>\n      <th>2013-01-03</th>\n      <td>0.050946</td>\n      <td>1.392522</td>\n      <td>-0.105310</td>\n      <td>1.117128</td>\n    </tr>\n  </tbody>\n</table>\n</div>"
     },
     "execution_count": 21,
     "metadata": {},
     "output_type": "execute_result"
    }
   ],
   "source": [
    "df.sort_values(by='B')"
   ]
  },
  {
   "cell_type": "markdown",
   "metadata": {},
   "source": [
    "## Selection "
   ]
  },
  {
   "cell_type": "code",
   "execution_count": 22,
   "metadata": {},
   "outputs": [
    {
     "data": {
      "text/plain": "                   A         B         C         D\n2013-01-01 -1.108578 -1.455718 -1.255487  0.322604\n2013-01-02  0.346927  0.582459 -2.182296 -1.048186\n2013-01-03  0.050946  1.392522 -0.105310  1.117128\n2013-01-04 -0.507630 -0.490599 -0.669263  0.904037\n2013-01-05  0.315369 -0.304080 -0.698243  0.896217\n2013-01-06 -1.687627  0.321909 -0.118029  0.106965",
      "text/html": "<div>\n<style scoped>\n    .dataframe tbody tr th:only-of-type {\n        vertical-align: middle;\n    }\n\n    .dataframe tbody tr th {\n        vertical-align: top;\n    }\n\n    .dataframe thead th {\n        text-align: right;\n    }\n</style>\n<table border=\"1\" class=\"dataframe\">\n  <thead>\n    <tr style=\"text-align: right;\">\n      <th></th>\n      <th>A</th>\n      <th>B</th>\n      <th>C</th>\n      <th>D</th>\n    </tr>\n  </thead>\n  <tbody>\n    <tr>\n      <th>2013-01-01</th>\n      <td>-1.108578</td>\n      <td>-1.455718</td>\n      <td>-1.255487</td>\n      <td>0.322604</td>\n    </tr>\n    <tr>\n      <th>2013-01-02</th>\n      <td>0.346927</td>\n      <td>0.582459</td>\n      <td>-2.182296</td>\n      <td>-1.048186</td>\n    </tr>\n    <tr>\n      <th>2013-01-03</th>\n      <td>0.050946</td>\n      <td>1.392522</td>\n      <td>-0.105310</td>\n      <td>1.117128</td>\n    </tr>\n    <tr>\n      <th>2013-01-04</th>\n      <td>-0.507630</td>\n      <td>-0.490599</td>\n      <td>-0.669263</td>\n      <td>0.904037</td>\n    </tr>\n    <tr>\n      <th>2013-01-05</th>\n      <td>0.315369</td>\n      <td>-0.304080</td>\n      <td>-0.698243</td>\n      <td>0.896217</td>\n    </tr>\n    <tr>\n      <th>2013-01-06</th>\n      <td>-1.687627</td>\n      <td>0.321909</td>\n      <td>-0.118029</td>\n      <td>0.106965</td>\n    </tr>\n  </tbody>\n</table>\n</div>"
     },
     "execution_count": 22,
     "metadata": {},
     "output_type": "execute_result"
    }
   ],
   "source": [
    "df"
   ]
  },
  {
   "cell_type": "code",
   "execution_count": 23,
   "metadata": {},
   "outputs": [
    {
     "data": {
      "text/plain": "2013-01-01   -1.108578\n2013-01-02    0.346927\n2013-01-03    0.050946\n2013-01-04   -0.507630\n2013-01-05    0.315369\n2013-01-06   -1.687627\nFreq: D, Name: A, dtype: float64"
     },
     "execution_count": 23,
     "metadata": {},
     "output_type": "execute_result"
    }
   ],
   "source": [
    "df[\"A\"]"
   ]
  },
  {
   "cell_type": "code",
   "execution_count": 24,
   "metadata": {},
   "outputs": [
    {
     "data": {
      "text/plain": "2013-01-01   -1.108578\n2013-01-02    0.346927\n2013-01-03    0.050946\n2013-01-04   -0.507630\n2013-01-05    0.315369\n2013-01-06   -1.687627\nFreq: D, Name: A, dtype: float64"
     },
     "execution_count": 24,
     "metadata": {},
     "output_type": "execute_result"
    }
   ],
   "source": [
    "df.A"
   ]
  },
  {
   "cell_type": "code",
   "execution_count": 25,
   "metadata": {},
   "outputs": [
    {
     "data": {
      "text/plain": "                   A         B         C         D\n2013-01-01 -1.108578 -1.455718 -1.255487  0.322604\n2013-01-02  0.346927  0.582459 -2.182296 -1.048186\n2013-01-03  0.050946  1.392522 -0.105310  1.117128",
      "text/html": "<div>\n<style scoped>\n    .dataframe tbody tr th:only-of-type {\n        vertical-align: middle;\n    }\n\n    .dataframe tbody tr th {\n        vertical-align: top;\n    }\n\n    .dataframe thead th {\n        text-align: right;\n    }\n</style>\n<table border=\"1\" class=\"dataframe\">\n  <thead>\n    <tr style=\"text-align: right;\">\n      <th></th>\n      <th>A</th>\n      <th>B</th>\n      <th>C</th>\n      <th>D</th>\n    </tr>\n  </thead>\n  <tbody>\n    <tr>\n      <th>2013-01-01</th>\n      <td>-1.108578</td>\n      <td>-1.455718</td>\n      <td>-1.255487</td>\n      <td>0.322604</td>\n    </tr>\n    <tr>\n      <th>2013-01-02</th>\n      <td>0.346927</td>\n      <td>0.582459</td>\n      <td>-2.182296</td>\n      <td>-1.048186</td>\n    </tr>\n    <tr>\n      <th>2013-01-03</th>\n      <td>0.050946</td>\n      <td>1.392522</td>\n      <td>-0.105310</td>\n      <td>1.117128</td>\n    </tr>\n  </tbody>\n</table>\n</div>"
     },
     "execution_count": 25,
     "metadata": {},
     "output_type": "execute_result"
    }
   ],
   "source": [
    "df[0:3]"
   ]
  },
  {
   "cell_type": "code",
   "execution_count": 26,
   "metadata": {},
   "outputs": [
    {
     "data": {
      "text/plain": "                   A         B         C         D\n2013-01-02  0.346927  0.582459 -2.182296 -1.048186\n2013-01-03  0.050946  1.392522 -0.105310  1.117128\n2013-01-04 -0.507630 -0.490599 -0.669263  0.904037",
      "text/html": "<div>\n<style scoped>\n    .dataframe tbody tr th:only-of-type {\n        vertical-align: middle;\n    }\n\n    .dataframe tbody tr th {\n        vertical-align: top;\n    }\n\n    .dataframe thead th {\n        text-align: right;\n    }\n</style>\n<table border=\"1\" class=\"dataframe\">\n  <thead>\n    <tr style=\"text-align: right;\">\n      <th></th>\n      <th>A</th>\n      <th>B</th>\n      <th>C</th>\n      <th>D</th>\n    </tr>\n  </thead>\n  <tbody>\n    <tr>\n      <th>2013-01-02</th>\n      <td>0.346927</td>\n      <td>0.582459</td>\n      <td>-2.182296</td>\n      <td>-1.048186</td>\n    </tr>\n    <tr>\n      <th>2013-01-03</th>\n      <td>0.050946</td>\n      <td>1.392522</td>\n      <td>-0.105310</td>\n      <td>1.117128</td>\n    </tr>\n    <tr>\n      <th>2013-01-04</th>\n      <td>-0.507630</td>\n      <td>-0.490599</td>\n      <td>-0.669263</td>\n      <td>0.904037</td>\n    </tr>\n  </tbody>\n</table>\n</div>"
     },
     "execution_count": 26,
     "metadata": {},
     "output_type": "execute_result"
    }
   ],
   "source": [
    "df[\"20130102\":\"20130104\"]"
   ]
  },
  {
   "cell_type": "markdown",
   "metadata": {},
   "source": [
    "## Selection by label"
   ]
  },
  {
   "cell_type": "code",
   "execution_count": 27,
   "metadata": {},
   "outputs": [
    {
     "data": {
      "text/plain": "                   A         B         C         D\n2013-01-01 -1.108578 -1.455718 -1.255487  0.322604\n2013-01-02  0.346927  0.582459 -2.182296 -1.048186\n2013-01-03  0.050946  1.392522 -0.105310  1.117128\n2013-01-04 -0.507630 -0.490599 -0.669263  0.904037\n2013-01-05  0.315369 -0.304080 -0.698243  0.896217\n2013-01-06 -1.687627  0.321909 -0.118029  0.106965",
      "text/html": "<div>\n<style scoped>\n    .dataframe tbody tr th:only-of-type {\n        vertical-align: middle;\n    }\n\n    .dataframe tbody tr th {\n        vertical-align: top;\n    }\n\n    .dataframe thead th {\n        text-align: right;\n    }\n</style>\n<table border=\"1\" class=\"dataframe\">\n  <thead>\n    <tr style=\"text-align: right;\">\n      <th></th>\n      <th>A</th>\n      <th>B</th>\n      <th>C</th>\n      <th>D</th>\n    </tr>\n  </thead>\n  <tbody>\n    <tr>\n      <th>2013-01-01</th>\n      <td>-1.108578</td>\n      <td>-1.455718</td>\n      <td>-1.255487</td>\n      <td>0.322604</td>\n    </tr>\n    <tr>\n      <th>2013-01-02</th>\n      <td>0.346927</td>\n      <td>0.582459</td>\n      <td>-2.182296</td>\n      <td>-1.048186</td>\n    </tr>\n    <tr>\n      <th>2013-01-03</th>\n      <td>0.050946</td>\n      <td>1.392522</td>\n      <td>-0.105310</td>\n      <td>1.117128</td>\n    </tr>\n    <tr>\n      <th>2013-01-04</th>\n      <td>-0.507630</td>\n      <td>-0.490599</td>\n      <td>-0.669263</td>\n      <td>0.904037</td>\n    </tr>\n    <tr>\n      <th>2013-01-05</th>\n      <td>0.315369</td>\n      <td>-0.304080</td>\n      <td>-0.698243</td>\n      <td>0.896217</td>\n    </tr>\n    <tr>\n      <th>2013-01-06</th>\n      <td>-1.687627</td>\n      <td>0.321909</td>\n      <td>-0.118029</td>\n      <td>0.106965</td>\n    </tr>\n  </tbody>\n</table>\n</div>"
     },
     "execution_count": 27,
     "metadata": {},
     "output_type": "execute_result"
    }
   ],
   "source": [
    "df"
   ]
  },
  {
   "cell_type": "code",
   "execution_count": 28,
   "metadata": {},
   "outputs": [
    {
     "data": {
      "text/plain": "A   -1.108578\nB   -1.455718\nC   -1.255487\nD    0.322604\nName: 2013-01-01 00:00:00, dtype: float64"
     },
     "execution_count": 28,
     "metadata": {},
     "output_type": "execute_result"
    }
   ],
   "source": [
    "df.loc[dates[0]]"
   ]
  },
  {
   "cell_type": "code",
   "execution_count": 29,
   "metadata": {},
   "outputs": [
    {
     "data": {
      "text/plain": "A    0.346927\nB    0.582459\nC   -2.182296\nD   -1.048186\nName: 2013-01-02 00:00:00, dtype: float64"
     },
     "execution_count": 29,
     "metadata": {},
     "output_type": "execute_result"
    }
   ],
   "source": [
    "df.loc[dates[1]]"
   ]
  },
  {
   "cell_type": "code",
   "execution_count": 30,
   "metadata": {},
   "outputs": [
    {
     "data": {
      "text/plain": "                   A         B         C         D\n2013-01-01 -1.108578 -1.455718 -1.255487  0.322604\n2013-01-02  0.346927  0.582459 -2.182296 -1.048186",
      "text/html": "<div>\n<style scoped>\n    .dataframe tbody tr th:only-of-type {\n        vertical-align: middle;\n    }\n\n    .dataframe tbody tr th {\n        vertical-align: top;\n    }\n\n    .dataframe thead th {\n        text-align: right;\n    }\n</style>\n<table border=\"1\" class=\"dataframe\">\n  <thead>\n    <tr style=\"text-align: right;\">\n      <th></th>\n      <th>A</th>\n      <th>B</th>\n      <th>C</th>\n      <th>D</th>\n    </tr>\n  </thead>\n  <tbody>\n    <tr>\n      <th>2013-01-01</th>\n      <td>-1.108578</td>\n      <td>-1.455718</td>\n      <td>-1.255487</td>\n      <td>0.322604</td>\n    </tr>\n    <tr>\n      <th>2013-01-02</th>\n      <td>0.346927</td>\n      <td>0.582459</td>\n      <td>-2.182296</td>\n      <td>-1.048186</td>\n    </tr>\n  </tbody>\n</table>\n</div>"
     },
     "execution_count": 30,
     "metadata": {},
     "output_type": "execute_result"
    }
   ],
   "source": [
    "df.loc[dates[0:2]]"
   ]
  },
  {
   "cell_type": "code",
   "execution_count": 31,
   "metadata": {},
   "outputs": [
    {
     "data": {
      "text/plain": "                   A         B\n2013-01-02  0.346927  0.582459\n2013-01-03  0.050946  1.392522\n2013-01-04 -0.507630 -0.490599",
      "text/html": "<div>\n<style scoped>\n    .dataframe tbody tr th:only-of-type {\n        vertical-align: middle;\n    }\n\n    .dataframe tbody tr th {\n        vertical-align: top;\n    }\n\n    .dataframe thead th {\n        text-align: right;\n    }\n</style>\n<table border=\"1\" class=\"dataframe\">\n  <thead>\n    <tr style=\"text-align: right;\">\n      <th></th>\n      <th>A</th>\n      <th>B</th>\n    </tr>\n  </thead>\n  <tbody>\n    <tr>\n      <th>2013-01-02</th>\n      <td>0.346927</td>\n      <td>0.582459</td>\n    </tr>\n    <tr>\n      <th>2013-01-03</th>\n      <td>0.050946</td>\n      <td>1.392522</td>\n    </tr>\n    <tr>\n      <th>2013-01-04</th>\n      <td>-0.507630</td>\n      <td>-0.490599</td>\n    </tr>\n  </tbody>\n</table>\n</div>"
     },
     "execution_count": 31,
     "metadata": {},
     "output_type": "execute_result"
    }
   ],
   "source": [
    "df.loc[\"20130102\":\"20130104\", [\"A\", \"B\"]]"
   ]
  },
  {
   "cell_type": "code",
   "execution_count": 32,
   "metadata": {},
   "outputs": [
    {
     "data": {
      "text/plain": "                   C         D\n2013-01-02 -2.182296 -1.048186\n2013-01-03 -0.105310  1.117128\n2013-01-04 -0.669263  0.904037",
      "text/html": "<div>\n<style scoped>\n    .dataframe tbody tr th:only-of-type {\n        vertical-align: middle;\n    }\n\n    .dataframe tbody tr th {\n        vertical-align: top;\n    }\n\n    .dataframe thead th {\n        text-align: right;\n    }\n</style>\n<table border=\"1\" class=\"dataframe\">\n  <thead>\n    <tr style=\"text-align: right;\">\n      <th></th>\n      <th>C</th>\n      <th>D</th>\n    </tr>\n  </thead>\n  <tbody>\n    <tr>\n      <th>2013-01-02</th>\n      <td>-2.182296</td>\n      <td>-1.048186</td>\n    </tr>\n    <tr>\n      <th>2013-01-03</th>\n      <td>-0.105310</td>\n      <td>1.117128</td>\n    </tr>\n    <tr>\n      <th>2013-01-04</th>\n      <td>-0.669263</td>\n      <td>0.904037</td>\n    </tr>\n  </tbody>\n</table>\n</div>"
     },
     "execution_count": 32,
     "metadata": {},
     "output_type": "execute_result"
    }
   ],
   "source": [
    "df.loc[\"20130102\":\"20130104\", [\"C\", \"D\"]]"
   ]
  },
  {
   "cell_type": "code",
   "execution_count": 33,
   "metadata": {},
   "outputs": [
    {
     "data": {
      "text/plain": "-1.1085775806485523"
     },
     "execution_count": 33,
     "metadata": {},
     "output_type": "execute_result"
    }
   ],
   "source": [
    "df.loc[dates[0], \"A\"]"
   ]
  },
  {
   "cell_type": "code",
   "execution_count": 34,
   "metadata": {},
   "outputs": [
    {
     "data": {
      "text/plain": "                   A         B         C         D\n2013-01-01 -1.108578 -1.455718 -1.255487  0.322604\n2013-01-02  0.346927  0.582459 -2.182296 -1.048186\n2013-01-03  0.050946  1.392522 -0.105310  1.117128\n2013-01-04 -0.507630 -0.490599 -0.669263  0.904037\n2013-01-05  0.315369 -0.304080 -0.698243  0.896217\n2013-01-06 -1.687627  0.321909 -0.118029  0.106965",
      "text/html": "<div>\n<style scoped>\n    .dataframe tbody tr th:only-of-type {\n        vertical-align: middle;\n    }\n\n    .dataframe tbody tr th {\n        vertical-align: top;\n    }\n\n    .dataframe thead th {\n        text-align: right;\n    }\n</style>\n<table border=\"1\" class=\"dataframe\">\n  <thead>\n    <tr style=\"text-align: right;\">\n      <th></th>\n      <th>A</th>\n      <th>B</th>\n      <th>C</th>\n      <th>D</th>\n    </tr>\n  </thead>\n  <tbody>\n    <tr>\n      <th>2013-01-01</th>\n      <td>-1.108578</td>\n      <td>-1.455718</td>\n      <td>-1.255487</td>\n      <td>0.322604</td>\n    </tr>\n    <tr>\n      <th>2013-01-02</th>\n      <td>0.346927</td>\n      <td>0.582459</td>\n      <td>-2.182296</td>\n      <td>-1.048186</td>\n    </tr>\n    <tr>\n      <th>2013-01-03</th>\n      <td>0.050946</td>\n      <td>1.392522</td>\n      <td>-0.105310</td>\n      <td>1.117128</td>\n    </tr>\n    <tr>\n      <th>2013-01-04</th>\n      <td>-0.507630</td>\n      <td>-0.490599</td>\n      <td>-0.669263</td>\n      <td>0.904037</td>\n    </tr>\n    <tr>\n      <th>2013-01-05</th>\n      <td>0.315369</td>\n      <td>-0.304080</td>\n      <td>-0.698243</td>\n      <td>0.896217</td>\n    </tr>\n    <tr>\n      <th>2013-01-06</th>\n      <td>-1.687627</td>\n      <td>0.321909</td>\n      <td>-0.118029</td>\n      <td>0.106965</td>\n    </tr>\n  </tbody>\n</table>\n</div>"
     },
     "execution_count": 34,
     "metadata": {},
     "output_type": "execute_result"
    }
   ],
   "source": [
    "df"
   ]
  },
  {
   "cell_type": "code",
   "execution_count": 35,
   "metadata": {},
   "outputs": [
    {
     "data": {
      "text/plain": "0.5824594218092382"
     },
     "execution_count": 35,
     "metadata": {},
     "output_type": "execute_result"
    }
   ],
   "source": [
    "df.loc[dates[1], \"B\"]"
   ]
  },
  {
   "cell_type": "markdown",
   "metadata": {},
   "source": [
    "## Selection by position"
   ]
  },
  {
   "cell_type": "code",
   "execution_count": 36,
   "metadata": {},
   "outputs": [
    {
     "data": {
      "text/plain": "A   -0.507630\nB   -0.490599\nC   -0.669263\nD    0.904037\nName: 2013-01-04 00:00:00, dtype: float64"
     },
     "execution_count": 36,
     "metadata": {},
     "output_type": "execute_result"
    }
   ],
   "source": [
    "df.iloc[3]"
   ]
  },
  {
   "cell_type": "code",
   "execution_count": 37,
   "metadata": {},
   "outputs": [
    {
     "data": {
      "text/plain": "-0.5076302101424348"
     },
     "execution_count": 37,
     "metadata": {},
     "output_type": "execute_result"
    }
   ],
   "source": [
    "df.iloc[3, 0]"
   ]
  },
  {
   "cell_type": "code",
   "execution_count": 38,
   "metadata": {},
   "outputs": [
    {
     "data": {
      "text/plain": "A   -0.507630\nB   -0.490599\nC   -0.669263\nName: 2013-01-04 00:00:00, dtype: float64"
     },
     "execution_count": 38,
     "metadata": {},
     "output_type": "execute_result"
    }
   ],
   "source": [
    "df.iloc[3, 0:3]"
   ]
  },
  {
   "cell_type": "code",
   "execution_count": 39,
   "metadata": {},
   "outputs": [
    {
     "data": {
      "text/plain": "                   A         C\n2013-01-02  0.346927 -2.182296\n2013-01-03  0.050946 -0.105310\n2013-01-05  0.315369 -0.698243",
      "text/html": "<div>\n<style scoped>\n    .dataframe tbody tr th:only-of-type {\n        vertical-align: middle;\n    }\n\n    .dataframe tbody tr th {\n        vertical-align: top;\n    }\n\n    .dataframe thead th {\n        text-align: right;\n    }\n</style>\n<table border=\"1\" class=\"dataframe\">\n  <thead>\n    <tr style=\"text-align: right;\">\n      <th></th>\n      <th>A</th>\n      <th>C</th>\n    </tr>\n  </thead>\n  <tbody>\n    <tr>\n      <th>2013-01-02</th>\n      <td>0.346927</td>\n      <td>-2.182296</td>\n    </tr>\n    <tr>\n      <th>2013-01-03</th>\n      <td>0.050946</td>\n      <td>-0.105310</td>\n    </tr>\n    <tr>\n      <th>2013-01-05</th>\n      <td>0.315369</td>\n      <td>-0.698243</td>\n    </tr>\n  </tbody>\n</table>\n</div>"
     },
     "execution_count": 39,
     "metadata": {},
     "output_type": "execute_result"
    }
   ],
   "source": [
    "df.iloc[[1, 2, 4], [0,2]]"
   ]
  },
  {
   "cell_type": "code",
   "execution_count": 40,
   "metadata": {},
   "outputs": [
    {
     "data": {
      "text/plain": "                   A         B         C         D\n2013-01-02  0.346927  0.582459 -2.182296 -1.048186\n2013-01-03  0.050946  1.392522 -0.105310  1.117128",
      "text/html": "<div>\n<style scoped>\n    .dataframe tbody tr th:only-of-type {\n        vertical-align: middle;\n    }\n\n    .dataframe tbody tr th {\n        vertical-align: top;\n    }\n\n    .dataframe thead th {\n        text-align: right;\n    }\n</style>\n<table border=\"1\" class=\"dataframe\">\n  <thead>\n    <tr style=\"text-align: right;\">\n      <th></th>\n      <th>A</th>\n      <th>B</th>\n      <th>C</th>\n      <th>D</th>\n    </tr>\n  </thead>\n  <tbody>\n    <tr>\n      <th>2013-01-02</th>\n      <td>0.346927</td>\n      <td>0.582459</td>\n      <td>-2.182296</td>\n      <td>-1.048186</td>\n    </tr>\n    <tr>\n      <th>2013-01-03</th>\n      <td>0.050946</td>\n      <td>1.392522</td>\n      <td>-0.105310</td>\n      <td>1.117128</td>\n    </tr>\n  </tbody>\n</table>\n</div>"
     },
     "execution_count": 40,
     "metadata": {},
     "output_type": "execute_result"
    }
   ],
   "source": [
    "df.iloc[1:3, :]"
   ]
  },
  {
   "cell_type": "code",
   "execution_count": 41,
   "metadata": {},
   "outputs": [
    {
     "data": {
      "text/plain": "                   B         C\n2013-01-01 -1.455718 -1.255487\n2013-01-02  0.582459 -2.182296\n2013-01-03  1.392522 -0.105310\n2013-01-04 -0.490599 -0.669263\n2013-01-05 -0.304080 -0.698243\n2013-01-06  0.321909 -0.118029",
      "text/html": "<div>\n<style scoped>\n    .dataframe tbody tr th:only-of-type {\n        vertical-align: middle;\n    }\n\n    .dataframe tbody tr th {\n        vertical-align: top;\n    }\n\n    .dataframe thead th {\n        text-align: right;\n    }\n</style>\n<table border=\"1\" class=\"dataframe\">\n  <thead>\n    <tr style=\"text-align: right;\">\n      <th></th>\n      <th>B</th>\n      <th>C</th>\n    </tr>\n  </thead>\n  <tbody>\n    <tr>\n      <th>2013-01-01</th>\n      <td>-1.455718</td>\n      <td>-1.255487</td>\n    </tr>\n    <tr>\n      <th>2013-01-02</th>\n      <td>0.582459</td>\n      <td>-2.182296</td>\n    </tr>\n    <tr>\n      <th>2013-01-03</th>\n      <td>1.392522</td>\n      <td>-0.105310</td>\n    </tr>\n    <tr>\n      <th>2013-01-04</th>\n      <td>-0.490599</td>\n      <td>-0.669263</td>\n    </tr>\n    <tr>\n      <th>2013-01-05</th>\n      <td>-0.304080</td>\n      <td>-0.698243</td>\n    </tr>\n    <tr>\n      <th>2013-01-06</th>\n      <td>0.321909</td>\n      <td>-0.118029</td>\n    </tr>\n  </tbody>\n</table>\n</div>"
     },
     "execution_count": 41,
     "metadata": {},
     "output_type": "execute_result"
    }
   ],
   "source": [
    "df.iloc[:, 1:3]"
   ]
  },
  {
   "cell_type": "code",
   "execution_count": 42,
   "metadata": {},
   "outputs": [
    {
     "data": {
      "text/plain": "0.5824594218092382"
     },
     "execution_count": 42,
     "metadata": {},
     "output_type": "execute_result"
    }
   ],
   "source": [
    "df.iloc[1, 1]"
   ]
  },
  {
   "cell_type": "code",
   "execution_count": 43,
   "metadata": {},
   "outputs": [
    {
     "data": {
      "text/plain": "0.5824594218092382"
     },
     "execution_count": 43,
     "metadata": {},
     "output_type": "execute_result"
    }
   ],
   "source": [
    "df.iat[1, 1]"
   ]
  },
  {
   "cell_type": "markdown",
   "metadata": {},
   "source": [
    "## Boolean indexing"
   ]
  },
  {
   "cell_type": "code",
   "execution_count": 44,
   "metadata": {},
   "outputs": [
    {
     "data": {
      "text/plain": "                   A         B         C         D\n2013-01-01 -1.108578 -1.455718 -1.255487  0.322604\n2013-01-02  0.346927  0.582459 -2.182296 -1.048186\n2013-01-03  0.050946  1.392522 -0.105310  1.117128\n2013-01-04 -0.507630 -0.490599 -0.669263  0.904037\n2013-01-05  0.315369 -0.304080 -0.698243  0.896217\n2013-01-06 -1.687627  0.321909 -0.118029  0.106965",
      "text/html": "<div>\n<style scoped>\n    .dataframe tbody tr th:only-of-type {\n        vertical-align: middle;\n    }\n\n    .dataframe tbody tr th {\n        vertical-align: top;\n    }\n\n    .dataframe thead th {\n        text-align: right;\n    }\n</style>\n<table border=\"1\" class=\"dataframe\">\n  <thead>\n    <tr style=\"text-align: right;\">\n      <th></th>\n      <th>A</th>\n      <th>B</th>\n      <th>C</th>\n      <th>D</th>\n    </tr>\n  </thead>\n  <tbody>\n    <tr>\n      <th>2013-01-01</th>\n      <td>-1.108578</td>\n      <td>-1.455718</td>\n      <td>-1.255487</td>\n      <td>0.322604</td>\n    </tr>\n    <tr>\n      <th>2013-01-02</th>\n      <td>0.346927</td>\n      <td>0.582459</td>\n      <td>-2.182296</td>\n      <td>-1.048186</td>\n    </tr>\n    <tr>\n      <th>2013-01-03</th>\n      <td>0.050946</td>\n      <td>1.392522</td>\n      <td>-0.105310</td>\n      <td>1.117128</td>\n    </tr>\n    <tr>\n      <th>2013-01-04</th>\n      <td>-0.507630</td>\n      <td>-0.490599</td>\n      <td>-0.669263</td>\n      <td>0.904037</td>\n    </tr>\n    <tr>\n      <th>2013-01-05</th>\n      <td>0.315369</td>\n      <td>-0.304080</td>\n      <td>-0.698243</td>\n      <td>0.896217</td>\n    </tr>\n    <tr>\n      <th>2013-01-06</th>\n      <td>-1.687627</td>\n      <td>0.321909</td>\n      <td>-0.118029</td>\n      <td>0.106965</td>\n    </tr>\n  </tbody>\n</table>\n</div>"
     },
     "execution_count": 44,
     "metadata": {},
     "output_type": "execute_result"
    }
   ],
   "source": [
    "df"
   ]
  },
  {
   "cell_type": "code",
   "execution_count": 45,
   "metadata": {},
   "outputs": [
    {
     "data": {
      "text/plain": "                   A         B         C         D\n2013-01-02  0.346927  0.582459 -2.182296 -1.048186\n2013-01-03  0.050946  1.392522 -0.105310  1.117128\n2013-01-05  0.315369 -0.304080 -0.698243  0.896217",
      "text/html": "<div>\n<style scoped>\n    .dataframe tbody tr th:only-of-type {\n        vertical-align: middle;\n    }\n\n    .dataframe tbody tr th {\n        vertical-align: top;\n    }\n\n    .dataframe thead th {\n        text-align: right;\n    }\n</style>\n<table border=\"1\" class=\"dataframe\">\n  <thead>\n    <tr style=\"text-align: right;\">\n      <th></th>\n      <th>A</th>\n      <th>B</th>\n      <th>C</th>\n      <th>D</th>\n    </tr>\n  </thead>\n  <tbody>\n    <tr>\n      <th>2013-01-02</th>\n      <td>0.346927</td>\n      <td>0.582459</td>\n      <td>-2.182296</td>\n      <td>-1.048186</td>\n    </tr>\n    <tr>\n      <th>2013-01-03</th>\n      <td>0.050946</td>\n      <td>1.392522</td>\n      <td>-0.105310</td>\n      <td>1.117128</td>\n    </tr>\n    <tr>\n      <th>2013-01-05</th>\n      <td>0.315369</td>\n      <td>-0.304080</td>\n      <td>-0.698243</td>\n      <td>0.896217</td>\n    </tr>\n  </tbody>\n</table>\n</div>"
     },
     "execution_count": 45,
     "metadata": {},
     "output_type": "execute_result"
    }
   ],
   "source": [
    "df[df[\"A\"] > 0]"
   ]
  },
  {
   "cell_type": "code",
   "execution_count": 46,
   "metadata": {},
   "outputs": [
    {
     "data": {
      "text/plain": "2013-01-01   -1.108578\n2013-01-02    0.346927\n2013-01-03    0.050946\n2013-01-04   -0.507630\n2013-01-05    0.315369\n2013-01-06   -1.687627\nFreq: D, Name: A, dtype: float64"
     },
     "execution_count": 46,
     "metadata": {},
     "output_type": "execute_result"
    }
   ],
   "source": [
    "df[\"A\"]"
   ]
  },
  {
   "cell_type": "code",
   "execution_count": 47,
   "metadata": {},
   "outputs": [
    {
     "data": {
      "text/plain": "                   A         B   C         D\n2013-01-01       NaN       NaN NaN  0.322604\n2013-01-02  0.346927  0.582459 NaN       NaN\n2013-01-03  0.050946  1.392522 NaN  1.117128\n2013-01-04       NaN       NaN NaN  0.904037\n2013-01-05  0.315369       NaN NaN  0.896217\n2013-01-06       NaN  0.321909 NaN  0.106965",
      "text/html": "<div>\n<style scoped>\n    .dataframe tbody tr th:only-of-type {\n        vertical-align: middle;\n    }\n\n    .dataframe tbody tr th {\n        vertical-align: top;\n    }\n\n    .dataframe thead th {\n        text-align: right;\n    }\n</style>\n<table border=\"1\" class=\"dataframe\">\n  <thead>\n    <tr style=\"text-align: right;\">\n      <th></th>\n      <th>A</th>\n      <th>B</th>\n      <th>C</th>\n      <th>D</th>\n    </tr>\n  </thead>\n  <tbody>\n    <tr>\n      <th>2013-01-01</th>\n      <td>NaN</td>\n      <td>NaN</td>\n      <td>NaN</td>\n      <td>0.322604</td>\n    </tr>\n    <tr>\n      <th>2013-01-02</th>\n      <td>0.346927</td>\n      <td>0.582459</td>\n      <td>NaN</td>\n      <td>NaN</td>\n    </tr>\n    <tr>\n      <th>2013-01-03</th>\n      <td>0.050946</td>\n      <td>1.392522</td>\n      <td>NaN</td>\n      <td>1.117128</td>\n    </tr>\n    <tr>\n      <th>2013-01-04</th>\n      <td>NaN</td>\n      <td>NaN</td>\n      <td>NaN</td>\n      <td>0.904037</td>\n    </tr>\n    <tr>\n      <th>2013-01-05</th>\n      <td>0.315369</td>\n      <td>NaN</td>\n      <td>NaN</td>\n      <td>0.896217</td>\n    </tr>\n    <tr>\n      <th>2013-01-06</th>\n      <td>NaN</td>\n      <td>0.321909</td>\n      <td>NaN</td>\n      <td>0.106965</td>\n    </tr>\n  </tbody>\n</table>\n</div>"
     },
     "execution_count": 47,
     "metadata": {},
     "output_type": "execute_result"
    }
   ],
   "source": [
    "df[df > 0]"
   ]
  },
  {
   "cell_type": "code",
   "execution_count": 48,
   "metadata": {},
   "outputs": [
    {
     "data": {
      "text/plain": "     A          B    C  D      E    F\n0  1.0 2013-01-02  1.0  3   test  foo\n1  1.0 2013-01-02  1.0  3  train  foo\n2  1.0 2013-01-02  1.0  3   test  foo\n3  1.0 2013-01-02  1.0  3  train  foo",
      "text/html": "<div>\n<style scoped>\n    .dataframe tbody tr th:only-of-type {\n        vertical-align: middle;\n    }\n\n    .dataframe tbody tr th {\n        vertical-align: top;\n    }\n\n    .dataframe thead th {\n        text-align: right;\n    }\n</style>\n<table border=\"1\" class=\"dataframe\">\n  <thead>\n    <tr style=\"text-align: right;\">\n      <th></th>\n      <th>A</th>\n      <th>B</th>\n      <th>C</th>\n      <th>D</th>\n      <th>E</th>\n      <th>F</th>\n    </tr>\n  </thead>\n  <tbody>\n    <tr>\n      <th>0</th>\n      <td>1.0</td>\n      <td>2013-01-02</td>\n      <td>1.0</td>\n      <td>3</td>\n      <td>test</td>\n      <td>foo</td>\n    </tr>\n    <tr>\n      <th>1</th>\n      <td>1.0</td>\n      <td>2013-01-02</td>\n      <td>1.0</td>\n      <td>3</td>\n      <td>train</td>\n      <td>foo</td>\n    </tr>\n    <tr>\n      <th>2</th>\n      <td>1.0</td>\n      <td>2013-01-02</td>\n      <td>1.0</td>\n      <td>3</td>\n      <td>test</td>\n      <td>foo</td>\n    </tr>\n    <tr>\n      <th>3</th>\n      <td>1.0</td>\n      <td>2013-01-02</td>\n      <td>1.0</td>\n      <td>3</td>\n      <td>train</td>\n      <td>foo</td>\n    </tr>\n  </tbody>\n</table>\n</div>"
     },
     "execution_count": 48,
     "metadata": {},
     "output_type": "execute_result"
    }
   ],
   "source": [
    "df2"
   ]
  },
  {
   "cell_type": "code",
   "execution_count": 49,
   "metadata": {},
   "outputs": [],
   "source": [
    "df2 = df.copy()"
   ]
  },
  {
   "cell_type": "code",
   "execution_count": 50,
   "metadata": {},
   "outputs": [],
   "source": [
    "df2[\"E\"] = [\"one\", \"one\", \"two\", \"three\", \"four\", \"three\"]"
   ]
  },
  {
   "cell_type": "code",
   "execution_count": 51,
   "metadata": {},
   "outputs": [
    {
     "data": {
      "text/plain": "                   A         B         C         D      E\n2013-01-01 -1.108578 -1.455718 -1.255487  0.322604    one\n2013-01-02  0.346927  0.582459 -2.182296 -1.048186    one\n2013-01-03  0.050946  1.392522 -0.105310  1.117128    two\n2013-01-04 -0.507630 -0.490599 -0.669263  0.904037  three\n2013-01-05  0.315369 -0.304080 -0.698243  0.896217   four\n2013-01-06 -1.687627  0.321909 -0.118029  0.106965  three",
      "text/html": "<div>\n<style scoped>\n    .dataframe tbody tr th:only-of-type {\n        vertical-align: middle;\n    }\n\n    .dataframe tbody tr th {\n        vertical-align: top;\n    }\n\n    .dataframe thead th {\n        text-align: right;\n    }\n</style>\n<table border=\"1\" class=\"dataframe\">\n  <thead>\n    <tr style=\"text-align: right;\">\n      <th></th>\n      <th>A</th>\n      <th>B</th>\n      <th>C</th>\n      <th>D</th>\n      <th>E</th>\n    </tr>\n  </thead>\n  <tbody>\n    <tr>\n      <th>2013-01-01</th>\n      <td>-1.108578</td>\n      <td>-1.455718</td>\n      <td>-1.255487</td>\n      <td>0.322604</td>\n      <td>one</td>\n    </tr>\n    <tr>\n      <th>2013-01-02</th>\n      <td>0.346927</td>\n      <td>0.582459</td>\n      <td>-2.182296</td>\n      <td>-1.048186</td>\n      <td>one</td>\n    </tr>\n    <tr>\n      <th>2013-01-03</th>\n      <td>0.050946</td>\n      <td>1.392522</td>\n      <td>-0.105310</td>\n      <td>1.117128</td>\n      <td>two</td>\n    </tr>\n    <tr>\n      <th>2013-01-04</th>\n      <td>-0.507630</td>\n      <td>-0.490599</td>\n      <td>-0.669263</td>\n      <td>0.904037</td>\n      <td>three</td>\n    </tr>\n    <tr>\n      <th>2013-01-05</th>\n      <td>0.315369</td>\n      <td>-0.304080</td>\n      <td>-0.698243</td>\n      <td>0.896217</td>\n      <td>four</td>\n    </tr>\n    <tr>\n      <th>2013-01-06</th>\n      <td>-1.687627</td>\n      <td>0.321909</td>\n      <td>-0.118029</td>\n      <td>0.106965</td>\n      <td>three</td>\n    </tr>\n  </tbody>\n</table>\n</div>"
     },
     "execution_count": 51,
     "metadata": {},
     "output_type": "execute_result"
    }
   ],
   "source": [
    "df2"
   ]
  },
  {
   "cell_type": "code",
   "execution_count": 52,
   "metadata": {},
   "outputs": [
    {
     "data": {
      "text/plain": "                   A         B         C         D     E\n2013-01-03  0.050946  1.392522 -0.105310  1.117128   two\n2013-01-05  0.315369 -0.304080 -0.698243  0.896217  four",
      "text/html": "<div>\n<style scoped>\n    .dataframe tbody tr th:only-of-type {\n        vertical-align: middle;\n    }\n\n    .dataframe tbody tr th {\n        vertical-align: top;\n    }\n\n    .dataframe thead th {\n        text-align: right;\n    }\n</style>\n<table border=\"1\" class=\"dataframe\">\n  <thead>\n    <tr style=\"text-align: right;\">\n      <th></th>\n      <th>A</th>\n      <th>B</th>\n      <th>C</th>\n      <th>D</th>\n      <th>E</th>\n    </tr>\n  </thead>\n  <tbody>\n    <tr>\n      <th>2013-01-03</th>\n      <td>0.050946</td>\n      <td>1.392522</td>\n      <td>-0.105310</td>\n      <td>1.117128</td>\n      <td>two</td>\n    </tr>\n    <tr>\n      <th>2013-01-05</th>\n      <td>0.315369</td>\n      <td>-0.304080</td>\n      <td>-0.698243</td>\n      <td>0.896217</td>\n      <td>four</td>\n    </tr>\n  </tbody>\n</table>\n</div>"
     },
     "execution_count": 52,
     "metadata": {},
     "output_type": "execute_result"
    }
   ],
   "source": [
    "df2[df2[\"E\"].isin([\"two\", \"four\"])]"
   ]
  },
  {
   "cell_type": "markdown",
   "metadata": {},
   "source": [
    "## Setting"
   ]
  },
  {
   "cell_type": "code",
   "execution_count": 53,
   "metadata": {},
   "outputs": [],
   "source": [
    "s1 = pd.Series([1, 2, 3, 4, 5, 6], index = pd.date_range(\"20130102\", periods = 6))"
   ]
  },
  {
   "cell_type": "code",
   "execution_count": 54,
   "metadata": {},
   "outputs": [
    {
     "data": {
      "text/plain": "2013-01-02    1\n2013-01-03    2\n2013-01-04    3\n2013-01-05    4\n2013-01-06    5\n2013-01-07    6\nFreq: D, dtype: int64"
     },
     "execution_count": 54,
     "metadata": {},
     "output_type": "execute_result"
    }
   ],
   "source": [
    "s1"
   ]
  },
  {
   "cell_type": "code",
   "execution_count": 55,
   "metadata": {},
   "outputs": [
    {
     "data": {
      "text/plain": "                   A         B         C         D\n2013-01-01 -1.108578 -1.455718 -1.255487  0.322604\n2013-01-02  0.346927  0.582459 -2.182296 -1.048186\n2013-01-03  0.050946  1.392522 -0.105310  1.117128\n2013-01-04 -0.507630 -0.490599 -0.669263  0.904037\n2013-01-05  0.315369 -0.304080 -0.698243  0.896217\n2013-01-06 -1.687627  0.321909 -0.118029  0.106965",
      "text/html": "<div>\n<style scoped>\n    .dataframe tbody tr th:only-of-type {\n        vertical-align: middle;\n    }\n\n    .dataframe tbody tr th {\n        vertical-align: top;\n    }\n\n    .dataframe thead th {\n        text-align: right;\n    }\n</style>\n<table border=\"1\" class=\"dataframe\">\n  <thead>\n    <tr style=\"text-align: right;\">\n      <th></th>\n      <th>A</th>\n      <th>B</th>\n      <th>C</th>\n      <th>D</th>\n    </tr>\n  </thead>\n  <tbody>\n    <tr>\n      <th>2013-01-01</th>\n      <td>-1.108578</td>\n      <td>-1.455718</td>\n      <td>-1.255487</td>\n      <td>0.322604</td>\n    </tr>\n    <tr>\n      <th>2013-01-02</th>\n      <td>0.346927</td>\n      <td>0.582459</td>\n      <td>-2.182296</td>\n      <td>-1.048186</td>\n    </tr>\n    <tr>\n      <th>2013-01-03</th>\n      <td>0.050946</td>\n      <td>1.392522</td>\n      <td>-0.105310</td>\n      <td>1.117128</td>\n    </tr>\n    <tr>\n      <th>2013-01-04</th>\n      <td>-0.507630</td>\n      <td>-0.490599</td>\n      <td>-0.669263</td>\n      <td>0.904037</td>\n    </tr>\n    <tr>\n      <th>2013-01-05</th>\n      <td>0.315369</td>\n      <td>-0.304080</td>\n      <td>-0.698243</td>\n      <td>0.896217</td>\n    </tr>\n    <tr>\n      <th>2013-01-06</th>\n      <td>-1.687627</td>\n      <td>0.321909</td>\n      <td>-0.118029</td>\n      <td>0.106965</td>\n    </tr>\n  </tbody>\n</table>\n</div>"
     },
     "execution_count": 55,
     "metadata": {},
     "output_type": "execute_result"
    }
   ],
   "source": [
    "df"
   ]
  },
  {
   "cell_type": "code",
   "execution_count": 56,
   "metadata": {},
   "outputs": [],
   "source": [
    "df.at[dates[0], \"A\"] = 0"
   ]
  },
  {
   "cell_type": "code",
   "execution_count": 57,
   "metadata": {},
   "outputs": [
    {
     "data": {
      "text/plain": "                   A         B         C         D\n2013-01-01  0.000000 -1.455718 -1.255487  0.322604\n2013-01-02  0.346927  0.582459 -2.182296 -1.048186\n2013-01-03  0.050946  1.392522 -0.105310  1.117128\n2013-01-04 -0.507630 -0.490599 -0.669263  0.904037\n2013-01-05  0.315369 -0.304080 -0.698243  0.896217\n2013-01-06 -1.687627  0.321909 -0.118029  0.106965",
      "text/html": "<div>\n<style scoped>\n    .dataframe tbody tr th:only-of-type {\n        vertical-align: middle;\n    }\n\n    .dataframe tbody tr th {\n        vertical-align: top;\n    }\n\n    .dataframe thead th {\n        text-align: right;\n    }\n</style>\n<table border=\"1\" class=\"dataframe\">\n  <thead>\n    <tr style=\"text-align: right;\">\n      <th></th>\n      <th>A</th>\n      <th>B</th>\n      <th>C</th>\n      <th>D</th>\n    </tr>\n  </thead>\n  <tbody>\n    <tr>\n      <th>2013-01-01</th>\n      <td>0.000000</td>\n      <td>-1.455718</td>\n      <td>-1.255487</td>\n      <td>0.322604</td>\n    </tr>\n    <tr>\n      <th>2013-01-02</th>\n      <td>0.346927</td>\n      <td>0.582459</td>\n      <td>-2.182296</td>\n      <td>-1.048186</td>\n    </tr>\n    <tr>\n      <th>2013-01-03</th>\n      <td>0.050946</td>\n      <td>1.392522</td>\n      <td>-0.105310</td>\n      <td>1.117128</td>\n    </tr>\n    <tr>\n      <th>2013-01-04</th>\n      <td>-0.507630</td>\n      <td>-0.490599</td>\n      <td>-0.669263</td>\n      <td>0.904037</td>\n    </tr>\n    <tr>\n      <th>2013-01-05</th>\n      <td>0.315369</td>\n      <td>-0.304080</td>\n      <td>-0.698243</td>\n      <td>0.896217</td>\n    </tr>\n    <tr>\n      <th>2013-01-06</th>\n      <td>-1.687627</td>\n      <td>0.321909</td>\n      <td>-0.118029</td>\n      <td>0.106965</td>\n    </tr>\n  </tbody>\n</table>\n</div>"
     },
     "execution_count": 57,
     "metadata": {},
     "output_type": "execute_result"
    }
   ],
   "source": [
    "df"
   ]
  },
  {
   "cell_type": "code",
   "execution_count": 58,
   "metadata": {},
   "outputs": [],
   "source": [
    "df.iat[0, 1] = 0"
   ]
  },
  {
   "cell_type": "code",
   "execution_count": 59,
   "metadata": {},
   "outputs": [
    {
     "data": {
      "text/plain": "                   A         B         C         D\n2013-01-01  0.000000  0.000000 -1.255487  0.322604\n2013-01-02  0.346927  0.582459 -2.182296 -1.048186\n2013-01-03  0.050946  1.392522 -0.105310  1.117128\n2013-01-04 -0.507630 -0.490599 -0.669263  0.904037\n2013-01-05  0.315369 -0.304080 -0.698243  0.896217\n2013-01-06 -1.687627  0.321909 -0.118029  0.106965",
      "text/html": "<div>\n<style scoped>\n    .dataframe tbody tr th:only-of-type {\n        vertical-align: middle;\n    }\n\n    .dataframe tbody tr th {\n        vertical-align: top;\n    }\n\n    .dataframe thead th {\n        text-align: right;\n    }\n</style>\n<table border=\"1\" class=\"dataframe\">\n  <thead>\n    <tr style=\"text-align: right;\">\n      <th></th>\n      <th>A</th>\n      <th>B</th>\n      <th>C</th>\n      <th>D</th>\n    </tr>\n  </thead>\n  <tbody>\n    <tr>\n      <th>2013-01-01</th>\n      <td>0.000000</td>\n      <td>0.000000</td>\n      <td>-1.255487</td>\n      <td>0.322604</td>\n    </tr>\n    <tr>\n      <th>2013-01-02</th>\n      <td>0.346927</td>\n      <td>0.582459</td>\n      <td>-2.182296</td>\n      <td>-1.048186</td>\n    </tr>\n    <tr>\n      <th>2013-01-03</th>\n      <td>0.050946</td>\n      <td>1.392522</td>\n      <td>-0.105310</td>\n      <td>1.117128</td>\n    </tr>\n    <tr>\n      <th>2013-01-04</th>\n      <td>-0.507630</td>\n      <td>-0.490599</td>\n      <td>-0.669263</td>\n      <td>0.904037</td>\n    </tr>\n    <tr>\n      <th>2013-01-05</th>\n      <td>0.315369</td>\n      <td>-0.304080</td>\n      <td>-0.698243</td>\n      <td>0.896217</td>\n    </tr>\n    <tr>\n      <th>2013-01-06</th>\n      <td>-1.687627</td>\n      <td>0.321909</td>\n      <td>-0.118029</td>\n      <td>0.106965</td>\n    </tr>\n  </tbody>\n</table>\n</div>"
     },
     "execution_count": 59,
     "metadata": {},
     "output_type": "execute_result"
    }
   ],
   "source": [
    "df"
   ]
  },
  {
   "cell_type": "code",
   "execution_count": 60,
   "metadata": {},
   "outputs": [],
   "source": [
    "df.loc[:, \"D\"] = np.array([5] * len(df))"
   ]
  },
  {
   "cell_type": "code",
   "execution_count": 61,
   "metadata": {},
   "outputs": [
    {
     "data": {
      "text/plain": "                   A         B         C  D\n2013-01-01  0.000000  0.000000 -1.255487  5\n2013-01-02  0.346927  0.582459 -2.182296  5\n2013-01-03  0.050946  1.392522 -0.105310  5\n2013-01-04 -0.507630 -0.490599 -0.669263  5\n2013-01-05  0.315369 -0.304080 -0.698243  5\n2013-01-06 -1.687627  0.321909 -0.118029  5",
      "text/html": "<div>\n<style scoped>\n    .dataframe tbody tr th:only-of-type {\n        vertical-align: middle;\n    }\n\n    .dataframe tbody tr th {\n        vertical-align: top;\n    }\n\n    .dataframe thead th {\n        text-align: right;\n    }\n</style>\n<table border=\"1\" class=\"dataframe\">\n  <thead>\n    <tr style=\"text-align: right;\">\n      <th></th>\n      <th>A</th>\n      <th>B</th>\n      <th>C</th>\n      <th>D</th>\n    </tr>\n  </thead>\n  <tbody>\n    <tr>\n      <th>2013-01-01</th>\n      <td>0.000000</td>\n      <td>0.000000</td>\n      <td>-1.255487</td>\n      <td>5</td>\n    </tr>\n    <tr>\n      <th>2013-01-02</th>\n      <td>0.346927</td>\n      <td>0.582459</td>\n      <td>-2.182296</td>\n      <td>5</td>\n    </tr>\n    <tr>\n      <th>2013-01-03</th>\n      <td>0.050946</td>\n      <td>1.392522</td>\n      <td>-0.105310</td>\n      <td>5</td>\n    </tr>\n    <tr>\n      <th>2013-01-04</th>\n      <td>-0.507630</td>\n      <td>-0.490599</td>\n      <td>-0.669263</td>\n      <td>5</td>\n    </tr>\n    <tr>\n      <th>2013-01-05</th>\n      <td>0.315369</td>\n      <td>-0.304080</td>\n      <td>-0.698243</td>\n      <td>5</td>\n    </tr>\n    <tr>\n      <th>2013-01-06</th>\n      <td>-1.687627</td>\n      <td>0.321909</td>\n      <td>-0.118029</td>\n      <td>5</td>\n    </tr>\n  </tbody>\n</table>\n</div>"
     },
     "execution_count": 61,
     "metadata": {},
     "output_type": "execute_result"
    }
   ],
   "source": [
    "df"
   ]
  },
  {
   "cell_type": "code",
   "execution_count": 62,
   "metadata": {},
   "outputs": [
    {
     "data": {
      "text/plain": "6"
     },
     "execution_count": 62,
     "metadata": {},
     "output_type": "execute_result"
    }
   ],
   "source": [
    "len(df)"
   ]
  },
  {
   "cell_type": "code",
   "execution_count": 63,
   "metadata": {},
   "outputs": [],
   "source": [
    "df[\"F\"] = [np.nan, 1.0, 2.0, 3.0, 4.0, 5.0]"
   ]
  },
  {
   "cell_type": "code",
   "execution_count": 64,
   "metadata": {},
   "outputs": [
    {
     "data": {
      "text/plain": "                   A         B         C  D    F\n2013-01-01  0.000000  0.000000 -1.255487  5  NaN\n2013-01-02  0.346927  0.582459 -2.182296  5  1.0\n2013-01-03  0.050946  1.392522 -0.105310  5  2.0\n2013-01-04 -0.507630 -0.490599 -0.669263  5  3.0\n2013-01-05  0.315369 -0.304080 -0.698243  5  4.0\n2013-01-06 -1.687627  0.321909 -0.118029  5  5.0",
      "text/html": "<div>\n<style scoped>\n    .dataframe tbody tr th:only-of-type {\n        vertical-align: middle;\n    }\n\n    .dataframe tbody tr th {\n        vertical-align: top;\n    }\n\n    .dataframe thead th {\n        text-align: right;\n    }\n</style>\n<table border=\"1\" class=\"dataframe\">\n  <thead>\n    <tr style=\"text-align: right;\">\n      <th></th>\n      <th>A</th>\n      <th>B</th>\n      <th>C</th>\n      <th>D</th>\n      <th>F</th>\n    </tr>\n  </thead>\n  <tbody>\n    <tr>\n      <th>2013-01-01</th>\n      <td>0.000000</td>\n      <td>0.000000</td>\n      <td>-1.255487</td>\n      <td>5</td>\n      <td>NaN</td>\n    </tr>\n    <tr>\n      <th>2013-01-02</th>\n      <td>0.346927</td>\n      <td>0.582459</td>\n      <td>-2.182296</td>\n      <td>5</td>\n      <td>1.0</td>\n    </tr>\n    <tr>\n      <th>2013-01-03</th>\n      <td>0.050946</td>\n      <td>1.392522</td>\n      <td>-0.105310</td>\n      <td>5</td>\n      <td>2.0</td>\n    </tr>\n    <tr>\n      <th>2013-01-04</th>\n      <td>-0.507630</td>\n      <td>-0.490599</td>\n      <td>-0.669263</td>\n      <td>5</td>\n      <td>3.0</td>\n    </tr>\n    <tr>\n      <th>2013-01-05</th>\n      <td>0.315369</td>\n      <td>-0.304080</td>\n      <td>-0.698243</td>\n      <td>5</td>\n      <td>4.0</td>\n    </tr>\n    <tr>\n      <th>2013-01-06</th>\n      <td>-1.687627</td>\n      <td>0.321909</td>\n      <td>-0.118029</td>\n      <td>5</td>\n      <td>5.0</td>\n    </tr>\n  </tbody>\n</table>\n</div>"
     },
     "execution_count": 64,
     "metadata": {},
     "output_type": "execute_result"
    }
   ],
   "source": [
    "df"
   ]
  },
  {
   "cell_type": "code",
   "execution_count": 65,
   "metadata": {},
   "outputs": [],
   "source": [
    "df2 = df.copy()"
   ]
  },
  {
   "cell_type": "code",
   "execution_count": 66,
   "metadata": {},
   "outputs": [
    {
     "data": {
      "text/plain": "                   A         B         C  D    F\n2013-01-01  0.000000  0.000000 -1.255487  5  NaN\n2013-01-02  0.346927  0.582459 -2.182296  5  1.0\n2013-01-03  0.050946  1.392522 -0.105310  5  2.0\n2013-01-04 -0.507630 -0.490599 -0.669263  5  3.0\n2013-01-05  0.315369 -0.304080 -0.698243  5  4.0\n2013-01-06 -1.687627  0.321909 -0.118029  5  5.0",
      "text/html": "<div>\n<style scoped>\n    .dataframe tbody tr th:only-of-type {\n        vertical-align: middle;\n    }\n\n    .dataframe tbody tr th {\n        vertical-align: top;\n    }\n\n    .dataframe thead th {\n        text-align: right;\n    }\n</style>\n<table border=\"1\" class=\"dataframe\">\n  <thead>\n    <tr style=\"text-align: right;\">\n      <th></th>\n      <th>A</th>\n      <th>B</th>\n      <th>C</th>\n      <th>D</th>\n      <th>F</th>\n    </tr>\n  </thead>\n  <tbody>\n    <tr>\n      <th>2013-01-01</th>\n      <td>0.000000</td>\n      <td>0.000000</td>\n      <td>-1.255487</td>\n      <td>5</td>\n      <td>NaN</td>\n    </tr>\n    <tr>\n      <th>2013-01-02</th>\n      <td>0.346927</td>\n      <td>0.582459</td>\n      <td>-2.182296</td>\n      <td>5</td>\n      <td>1.0</td>\n    </tr>\n    <tr>\n      <th>2013-01-03</th>\n      <td>0.050946</td>\n      <td>1.392522</td>\n      <td>-0.105310</td>\n      <td>5</td>\n      <td>2.0</td>\n    </tr>\n    <tr>\n      <th>2013-01-04</th>\n      <td>-0.507630</td>\n      <td>-0.490599</td>\n      <td>-0.669263</td>\n      <td>5</td>\n      <td>3.0</td>\n    </tr>\n    <tr>\n      <th>2013-01-05</th>\n      <td>0.315369</td>\n      <td>-0.304080</td>\n      <td>-0.698243</td>\n      <td>5</td>\n      <td>4.0</td>\n    </tr>\n    <tr>\n      <th>2013-01-06</th>\n      <td>-1.687627</td>\n      <td>0.321909</td>\n      <td>-0.118029</td>\n      <td>5</td>\n      <td>5.0</td>\n    </tr>\n  </tbody>\n</table>\n</div>"
     },
     "execution_count": 66,
     "metadata": {},
     "output_type": "execute_result"
    }
   ],
   "source": [
    "df2"
   ]
  },
  {
   "cell_type": "code",
   "execution_count": 67,
   "metadata": {},
   "outputs": [],
   "source": [
    "df2[df2 > 0 ] = -df2"
   ]
  },
  {
   "cell_type": "code",
   "execution_count": 68,
   "metadata": {},
   "outputs": [
    {
     "data": {
      "text/plain": "                   A         B         C  D    F\n2013-01-01  0.000000  0.000000 -1.255487 -5  NaN\n2013-01-02 -0.346927 -0.582459 -2.182296 -5 -1.0\n2013-01-03 -0.050946 -1.392522 -0.105310 -5 -2.0\n2013-01-04 -0.507630 -0.490599 -0.669263 -5 -3.0\n2013-01-05 -0.315369 -0.304080 -0.698243 -5 -4.0\n2013-01-06 -1.687627 -0.321909 -0.118029 -5 -5.0",
      "text/html": "<div>\n<style scoped>\n    .dataframe tbody tr th:only-of-type {\n        vertical-align: middle;\n    }\n\n    .dataframe tbody tr th {\n        vertical-align: top;\n    }\n\n    .dataframe thead th {\n        text-align: right;\n    }\n</style>\n<table border=\"1\" class=\"dataframe\">\n  <thead>\n    <tr style=\"text-align: right;\">\n      <th></th>\n      <th>A</th>\n      <th>B</th>\n      <th>C</th>\n      <th>D</th>\n      <th>F</th>\n    </tr>\n  </thead>\n  <tbody>\n    <tr>\n      <th>2013-01-01</th>\n      <td>0.000000</td>\n      <td>0.000000</td>\n      <td>-1.255487</td>\n      <td>-5</td>\n      <td>NaN</td>\n    </tr>\n    <tr>\n      <th>2013-01-02</th>\n      <td>-0.346927</td>\n      <td>-0.582459</td>\n      <td>-2.182296</td>\n      <td>-5</td>\n      <td>-1.0</td>\n    </tr>\n    <tr>\n      <th>2013-01-03</th>\n      <td>-0.050946</td>\n      <td>-1.392522</td>\n      <td>-0.105310</td>\n      <td>-5</td>\n      <td>-2.0</td>\n    </tr>\n    <tr>\n      <th>2013-01-04</th>\n      <td>-0.507630</td>\n      <td>-0.490599</td>\n      <td>-0.669263</td>\n      <td>-5</td>\n      <td>-3.0</td>\n    </tr>\n    <tr>\n      <th>2013-01-05</th>\n      <td>-0.315369</td>\n      <td>-0.304080</td>\n      <td>-0.698243</td>\n      <td>-5</td>\n      <td>-4.0</td>\n    </tr>\n    <tr>\n      <th>2013-01-06</th>\n      <td>-1.687627</td>\n      <td>-0.321909</td>\n      <td>-0.118029</td>\n      <td>-5</td>\n      <td>-5.0</td>\n    </tr>\n  </tbody>\n</table>\n</div>"
     },
     "execution_count": 68,
     "metadata": {},
     "output_type": "execute_result"
    }
   ],
   "source": [
    "df2"
   ]
  },
  {
   "cell_type": "markdown",
   "metadata": {},
   "source": [
    "## Missing Data"
   ]
  },
  {
   "cell_type": "code",
   "execution_count": 69,
   "metadata": {},
   "outputs": [],
   "source": [
    "df1 = df.reindex(index = dates[0:4], columns = list(df.columns) + [\"E\"])"
   ]
  },
  {
   "cell_type": "code",
   "execution_count": 70,
   "metadata": {},
   "outputs": [
    {
     "data": {
      "text/plain": "                   A         B         C  D    F   E\n2013-01-01  0.000000  0.000000 -1.255487  5  NaN NaN\n2013-01-02  0.346927  0.582459 -2.182296  5  1.0 NaN\n2013-01-03  0.050946  1.392522 -0.105310  5  2.0 NaN\n2013-01-04 -0.507630 -0.490599 -0.669263  5  3.0 NaN",
      "text/html": "<div>\n<style scoped>\n    .dataframe tbody tr th:only-of-type {\n        vertical-align: middle;\n    }\n\n    .dataframe tbody tr th {\n        vertical-align: top;\n    }\n\n    .dataframe thead th {\n        text-align: right;\n    }\n</style>\n<table border=\"1\" class=\"dataframe\">\n  <thead>\n    <tr style=\"text-align: right;\">\n      <th></th>\n      <th>A</th>\n      <th>B</th>\n      <th>C</th>\n      <th>D</th>\n      <th>F</th>\n      <th>E</th>\n    </tr>\n  </thead>\n  <tbody>\n    <tr>\n      <th>2013-01-01</th>\n      <td>0.000000</td>\n      <td>0.000000</td>\n      <td>-1.255487</td>\n      <td>5</td>\n      <td>NaN</td>\n      <td>NaN</td>\n    </tr>\n    <tr>\n      <th>2013-01-02</th>\n      <td>0.346927</td>\n      <td>0.582459</td>\n      <td>-2.182296</td>\n      <td>5</td>\n      <td>1.0</td>\n      <td>NaN</td>\n    </tr>\n    <tr>\n      <th>2013-01-03</th>\n      <td>0.050946</td>\n      <td>1.392522</td>\n      <td>-0.105310</td>\n      <td>5</td>\n      <td>2.0</td>\n      <td>NaN</td>\n    </tr>\n    <tr>\n      <th>2013-01-04</th>\n      <td>-0.507630</td>\n      <td>-0.490599</td>\n      <td>-0.669263</td>\n      <td>5</td>\n      <td>3.0</td>\n      <td>NaN</td>\n    </tr>\n  </tbody>\n</table>\n</div>"
     },
     "execution_count": 70,
     "metadata": {},
     "output_type": "execute_result"
    }
   ],
   "source": [
    "df1"
   ]
  },
  {
   "cell_type": "code",
   "execution_count": 71,
   "metadata": {},
   "outputs": [],
   "source": [
    "df1.loc[dates[0] : dates[1], \"E\"] = 1"
   ]
  },
  {
   "cell_type": "code",
   "execution_count": 72,
   "metadata": {},
   "outputs": [
    {
     "data": {
      "text/plain": "                   A         B         C  D    F    E\n2013-01-01  0.000000  0.000000 -1.255487  5  NaN  1.0\n2013-01-02  0.346927  0.582459 -2.182296  5  1.0  1.0\n2013-01-03  0.050946  1.392522 -0.105310  5  2.0  NaN\n2013-01-04 -0.507630 -0.490599 -0.669263  5  3.0  NaN",
      "text/html": "<div>\n<style scoped>\n    .dataframe tbody tr th:only-of-type {\n        vertical-align: middle;\n    }\n\n    .dataframe tbody tr th {\n        vertical-align: top;\n    }\n\n    .dataframe thead th {\n        text-align: right;\n    }\n</style>\n<table border=\"1\" class=\"dataframe\">\n  <thead>\n    <tr style=\"text-align: right;\">\n      <th></th>\n      <th>A</th>\n      <th>B</th>\n      <th>C</th>\n      <th>D</th>\n      <th>F</th>\n      <th>E</th>\n    </tr>\n  </thead>\n  <tbody>\n    <tr>\n      <th>2013-01-01</th>\n      <td>0.000000</td>\n      <td>0.000000</td>\n      <td>-1.255487</td>\n      <td>5</td>\n      <td>NaN</td>\n      <td>1.0</td>\n    </tr>\n    <tr>\n      <th>2013-01-02</th>\n      <td>0.346927</td>\n      <td>0.582459</td>\n      <td>-2.182296</td>\n      <td>5</td>\n      <td>1.0</td>\n      <td>1.0</td>\n    </tr>\n    <tr>\n      <th>2013-01-03</th>\n      <td>0.050946</td>\n      <td>1.392522</td>\n      <td>-0.105310</td>\n      <td>5</td>\n      <td>2.0</td>\n      <td>NaN</td>\n    </tr>\n    <tr>\n      <th>2013-01-04</th>\n      <td>-0.507630</td>\n      <td>-0.490599</td>\n      <td>-0.669263</td>\n      <td>5</td>\n      <td>3.0</td>\n      <td>NaN</td>\n    </tr>\n  </tbody>\n</table>\n</div>"
     },
     "execution_count": 72,
     "metadata": {},
     "output_type": "execute_result"
    }
   ],
   "source": [
    "df1"
   ]
  },
  {
   "cell_type": "code",
   "execution_count": 73,
   "metadata": {},
   "outputs": [
    {
     "data": {
      "text/plain": "                   A         B         C  D    F    E\n2013-01-02  0.346927  0.582459 -2.182296  5  1.0  1.0",
      "text/html": "<div>\n<style scoped>\n    .dataframe tbody tr th:only-of-type {\n        vertical-align: middle;\n    }\n\n    .dataframe tbody tr th {\n        vertical-align: top;\n    }\n\n    .dataframe thead th {\n        text-align: right;\n    }\n</style>\n<table border=\"1\" class=\"dataframe\">\n  <thead>\n    <tr style=\"text-align: right;\">\n      <th></th>\n      <th>A</th>\n      <th>B</th>\n      <th>C</th>\n      <th>D</th>\n      <th>F</th>\n      <th>E</th>\n    </tr>\n  </thead>\n  <tbody>\n    <tr>\n      <th>2013-01-02</th>\n      <td>0.346927</td>\n      <td>0.582459</td>\n      <td>-2.182296</td>\n      <td>5</td>\n      <td>1.0</td>\n      <td>1.0</td>\n    </tr>\n  </tbody>\n</table>\n</div>"
     },
     "execution_count": 73,
     "metadata": {},
     "output_type": "execute_result"
    }
   ],
   "source": [
    "df1.dropna(how = \"any\")"
   ]
  },
  {
   "cell_type": "code",
   "execution_count": 74,
   "metadata": {},
   "outputs": [
    {
     "data": {
      "text/plain": "                   A         B         C  D    F    E\n2013-01-01  0.000000  0.000000 -1.255487  5  5.0  1.0\n2013-01-02  0.346927  0.582459 -2.182296  5  1.0  1.0\n2013-01-03  0.050946  1.392522 -0.105310  5  2.0  5.0\n2013-01-04 -0.507630 -0.490599 -0.669263  5  3.0  5.0",
      "text/html": "<div>\n<style scoped>\n    .dataframe tbody tr th:only-of-type {\n        vertical-align: middle;\n    }\n\n    .dataframe tbody tr th {\n        vertical-align: top;\n    }\n\n    .dataframe thead th {\n        text-align: right;\n    }\n</style>\n<table border=\"1\" class=\"dataframe\">\n  <thead>\n    <tr style=\"text-align: right;\">\n      <th></th>\n      <th>A</th>\n      <th>B</th>\n      <th>C</th>\n      <th>D</th>\n      <th>F</th>\n      <th>E</th>\n    </tr>\n  </thead>\n  <tbody>\n    <tr>\n      <th>2013-01-01</th>\n      <td>0.000000</td>\n      <td>0.000000</td>\n      <td>-1.255487</td>\n      <td>5</td>\n      <td>5.0</td>\n      <td>1.0</td>\n    </tr>\n    <tr>\n      <th>2013-01-02</th>\n      <td>0.346927</td>\n      <td>0.582459</td>\n      <td>-2.182296</td>\n      <td>5</td>\n      <td>1.0</td>\n      <td>1.0</td>\n    </tr>\n    <tr>\n      <th>2013-01-03</th>\n      <td>0.050946</td>\n      <td>1.392522</td>\n      <td>-0.105310</td>\n      <td>5</td>\n      <td>2.0</td>\n      <td>5.0</td>\n    </tr>\n    <tr>\n      <th>2013-01-04</th>\n      <td>-0.507630</td>\n      <td>-0.490599</td>\n      <td>-0.669263</td>\n      <td>5</td>\n      <td>3.0</td>\n      <td>5.0</td>\n    </tr>\n  </tbody>\n</table>\n</div>"
     },
     "execution_count": 74,
     "metadata": {},
     "output_type": "execute_result"
    }
   ],
   "source": [
    "df1.fillna(value = 5)"
   ]
  },
  {
   "cell_type": "code",
   "execution_count": 75,
   "metadata": {},
   "outputs": [
    {
     "data": {
      "text/plain": "                A      B      C      D      F      E\n2013-01-01  False  False  False  False   True  False\n2013-01-02  False  False  False  False  False  False\n2013-01-03  False  False  False  False  False   True\n2013-01-04  False  False  False  False  False   True",
      "text/html": "<div>\n<style scoped>\n    .dataframe tbody tr th:only-of-type {\n        vertical-align: middle;\n    }\n\n    .dataframe tbody tr th {\n        vertical-align: top;\n    }\n\n    .dataframe thead th {\n        text-align: right;\n    }\n</style>\n<table border=\"1\" class=\"dataframe\">\n  <thead>\n    <tr style=\"text-align: right;\">\n      <th></th>\n      <th>A</th>\n      <th>B</th>\n      <th>C</th>\n      <th>D</th>\n      <th>F</th>\n      <th>E</th>\n    </tr>\n  </thead>\n  <tbody>\n    <tr>\n      <th>2013-01-01</th>\n      <td>False</td>\n      <td>False</td>\n      <td>False</td>\n      <td>False</td>\n      <td>True</td>\n      <td>False</td>\n    </tr>\n    <tr>\n      <th>2013-01-02</th>\n      <td>False</td>\n      <td>False</td>\n      <td>False</td>\n      <td>False</td>\n      <td>False</td>\n      <td>False</td>\n    </tr>\n    <tr>\n      <th>2013-01-03</th>\n      <td>False</td>\n      <td>False</td>\n      <td>False</td>\n      <td>False</td>\n      <td>False</td>\n      <td>True</td>\n    </tr>\n    <tr>\n      <th>2013-01-04</th>\n      <td>False</td>\n      <td>False</td>\n      <td>False</td>\n      <td>False</td>\n      <td>False</td>\n      <td>True</td>\n    </tr>\n  </tbody>\n</table>\n</div>"
     },
     "execution_count": 75,
     "metadata": {},
     "output_type": "execute_result"
    }
   ],
   "source": [
    "pd.isna(df1)"
   ]
  },
  {
   "cell_type": "code",
   "execution_count": 76,
   "metadata": {},
   "outputs": [
    {
     "data": {
      "text/plain": "                   A         B         C  D    F    E\n2013-01-01  0.000000  0.000000 -1.255487  5  NaN  1.0\n2013-01-02  0.346927  0.582459 -2.182296  5  1.0  1.0\n2013-01-03  0.050946  1.392522 -0.105310  5  2.0  NaN\n2013-01-04 -0.507630 -0.490599 -0.669263  5  3.0  NaN",
      "text/html": "<div>\n<style scoped>\n    .dataframe tbody tr th:only-of-type {\n        vertical-align: middle;\n    }\n\n    .dataframe tbody tr th {\n        vertical-align: top;\n    }\n\n    .dataframe thead th {\n        text-align: right;\n    }\n</style>\n<table border=\"1\" class=\"dataframe\">\n  <thead>\n    <tr style=\"text-align: right;\">\n      <th></th>\n      <th>A</th>\n      <th>B</th>\n      <th>C</th>\n      <th>D</th>\n      <th>F</th>\n      <th>E</th>\n    </tr>\n  </thead>\n  <tbody>\n    <tr>\n      <th>2013-01-01</th>\n      <td>0.000000</td>\n      <td>0.000000</td>\n      <td>-1.255487</td>\n      <td>5</td>\n      <td>NaN</td>\n      <td>1.0</td>\n    </tr>\n    <tr>\n      <th>2013-01-02</th>\n      <td>0.346927</td>\n      <td>0.582459</td>\n      <td>-2.182296</td>\n      <td>5</td>\n      <td>1.0</td>\n      <td>1.0</td>\n    </tr>\n    <tr>\n      <th>2013-01-03</th>\n      <td>0.050946</td>\n      <td>1.392522</td>\n      <td>-0.105310</td>\n      <td>5</td>\n      <td>2.0</td>\n      <td>NaN</td>\n    </tr>\n    <tr>\n      <th>2013-01-04</th>\n      <td>-0.507630</td>\n      <td>-0.490599</td>\n      <td>-0.669263</td>\n      <td>5</td>\n      <td>3.0</td>\n      <td>NaN</td>\n    </tr>\n  </tbody>\n</table>\n</div>"
     },
     "execution_count": 76,
     "metadata": {},
     "output_type": "execute_result"
    }
   ],
   "source": [
    "df1"
   ]
  },
  {
   "cell_type": "code",
   "execution_count": 77,
   "metadata": {},
   "outputs": [
    {
     "data": {
      "text/plain": "                   A         B         C  D    F\n2013-01-01  0.000000  0.000000 -1.255487  5  NaN\n2013-01-02  0.346927  0.582459 -2.182296  5  1.0\n2013-01-03  0.050946  1.392522 -0.105310  5  2.0\n2013-01-04 -0.507630 -0.490599 -0.669263  5  3.0\n2013-01-05  0.315369 -0.304080 -0.698243  5  4.0\n2013-01-06 -1.687627  0.321909 -0.118029  5  5.0",
      "text/html": "<div>\n<style scoped>\n    .dataframe tbody tr th:only-of-type {\n        vertical-align: middle;\n    }\n\n    .dataframe tbody tr th {\n        vertical-align: top;\n    }\n\n    .dataframe thead th {\n        text-align: right;\n    }\n</style>\n<table border=\"1\" class=\"dataframe\">\n  <thead>\n    <tr style=\"text-align: right;\">\n      <th></th>\n      <th>A</th>\n      <th>B</th>\n      <th>C</th>\n      <th>D</th>\n      <th>F</th>\n    </tr>\n  </thead>\n  <tbody>\n    <tr>\n      <th>2013-01-01</th>\n      <td>0.000000</td>\n      <td>0.000000</td>\n      <td>-1.255487</td>\n      <td>5</td>\n      <td>NaN</td>\n    </tr>\n    <tr>\n      <th>2013-01-02</th>\n      <td>0.346927</td>\n      <td>0.582459</td>\n      <td>-2.182296</td>\n      <td>5</td>\n      <td>1.0</td>\n    </tr>\n    <tr>\n      <th>2013-01-03</th>\n      <td>0.050946</td>\n      <td>1.392522</td>\n      <td>-0.105310</td>\n      <td>5</td>\n      <td>2.0</td>\n    </tr>\n    <tr>\n      <th>2013-01-04</th>\n      <td>-0.507630</td>\n      <td>-0.490599</td>\n      <td>-0.669263</td>\n      <td>5</td>\n      <td>3.0</td>\n    </tr>\n    <tr>\n      <th>2013-01-05</th>\n      <td>0.315369</td>\n      <td>-0.304080</td>\n      <td>-0.698243</td>\n      <td>5</td>\n      <td>4.0</td>\n    </tr>\n    <tr>\n      <th>2013-01-06</th>\n      <td>-1.687627</td>\n      <td>0.321909</td>\n      <td>-0.118029</td>\n      <td>5</td>\n      <td>5.0</td>\n    </tr>\n  </tbody>\n</table>\n</div>"
     },
     "execution_count": 77,
     "metadata": {},
     "output_type": "execute_result"
    }
   ],
   "source": [
    "df"
   ]
  },
  {
   "cell_type": "code",
   "execution_count": 78,
   "metadata": {},
   "outputs": [
    {
     "data": {
      "text/plain": "A   -0.247003\nB    0.250369\nC   -0.838105\nD    5.000000\nF    3.000000\ndtype: float64"
     },
     "execution_count": 78,
     "metadata": {},
     "output_type": "execute_result"
    }
   ],
   "source": [
    "df.mean()"
   ]
  },
  {
   "cell_type": "code",
   "execution_count": 79,
   "metadata": {},
   "outputs": [
    {
     "data": {
      "text/plain": "2013-01-01    0.936128\n2013-01-02    0.949418\n2013-01-03    1.667632\n2013-01-04    1.266502\n2013-01-05    1.662609\n2013-01-06    1.703251\nFreq: D, dtype: float64"
     },
     "execution_count": 79,
     "metadata": {},
     "output_type": "execute_result"
    }
   ],
   "source": [
    "df.mean(1)"
   ]
  },
  {
   "cell_type": "code",
   "execution_count": 80,
   "metadata": {},
   "outputs": [],
   "source": [
    "s = pd.Series([1, 3, 5, np.nan, 6, 8], index = dates)"
   ]
  },
  {
   "cell_type": "code",
   "execution_count": 81,
   "metadata": {},
   "outputs": [
    {
     "data": {
      "text/plain": "2013-01-01    1.0\n2013-01-02    3.0\n2013-01-03    5.0\n2013-01-04    NaN\n2013-01-05    6.0\n2013-01-06    8.0\nFreq: D, dtype: float64"
     },
     "execution_count": 81,
     "metadata": {},
     "output_type": "execute_result"
    }
   ],
   "source": [
    "s"
   ]
  },
  {
   "cell_type": "code",
   "execution_count": 82,
   "metadata": {},
   "outputs": [],
   "source": [
    "s = pd.Series([1, 3, 5, np.nan, 6, 8], index = dates).shift(2)"
   ]
  },
  {
   "cell_type": "code",
   "execution_count": 83,
   "metadata": {},
   "outputs": [
    {
     "data": {
      "text/plain": "2013-01-01    NaN\n2013-01-02    NaN\n2013-01-03    1.0\n2013-01-04    3.0\n2013-01-05    5.0\n2013-01-06    NaN\nFreq: D, dtype: float64"
     },
     "execution_count": 83,
     "metadata": {},
     "output_type": "execute_result"
    }
   ],
   "source": [
    "s"
   ]
  },
  {
   "cell_type": "code",
   "execution_count": 84,
   "metadata": {},
   "outputs": [
    {
     "data": {
      "text/plain": "                   A         B         C    D    F\n2013-01-01       NaN       NaN       NaN  NaN  NaN\n2013-01-02       NaN       NaN       NaN  NaN  NaN\n2013-01-03 -0.949054  0.392522 -1.105310  4.0  1.0\n2013-01-04 -3.507630 -3.490599 -3.669263  2.0  0.0\n2013-01-05 -4.684631 -5.304080 -5.698243  0.0 -1.0\n2013-01-06       NaN       NaN       NaN  NaN  NaN",
      "text/html": "<div>\n<style scoped>\n    .dataframe tbody tr th:only-of-type {\n        vertical-align: middle;\n    }\n\n    .dataframe tbody tr th {\n        vertical-align: top;\n    }\n\n    .dataframe thead th {\n        text-align: right;\n    }\n</style>\n<table border=\"1\" class=\"dataframe\">\n  <thead>\n    <tr style=\"text-align: right;\">\n      <th></th>\n      <th>A</th>\n      <th>B</th>\n      <th>C</th>\n      <th>D</th>\n      <th>F</th>\n    </tr>\n  </thead>\n  <tbody>\n    <tr>\n      <th>2013-01-01</th>\n      <td>NaN</td>\n      <td>NaN</td>\n      <td>NaN</td>\n      <td>NaN</td>\n      <td>NaN</td>\n    </tr>\n    <tr>\n      <th>2013-01-02</th>\n      <td>NaN</td>\n      <td>NaN</td>\n      <td>NaN</td>\n      <td>NaN</td>\n      <td>NaN</td>\n    </tr>\n    <tr>\n      <th>2013-01-03</th>\n      <td>-0.949054</td>\n      <td>0.392522</td>\n      <td>-1.105310</td>\n      <td>4.0</td>\n      <td>1.0</td>\n    </tr>\n    <tr>\n      <th>2013-01-04</th>\n      <td>-3.507630</td>\n      <td>-3.490599</td>\n      <td>-3.669263</td>\n      <td>2.0</td>\n      <td>0.0</td>\n    </tr>\n    <tr>\n      <th>2013-01-05</th>\n      <td>-4.684631</td>\n      <td>-5.304080</td>\n      <td>-5.698243</td>\n      <td>0.0</td>\n      <td>-1.0</td>\n    </tr>\n    <tr>\n      <th>2013-01-06</th>\n      <td>NaN</td>\n      <td>NaN</td>\n      <td>NaN</td>\n      <td>NaN</td>\n      <td>NaN</td>\n    </tr>\n  </tbody>\n</table>\n</div>"
     },
     "execution_count": 84,
     "metadata": {},
     "output_type": "execute_result"
    }
   ],
   "source": [
    "df.sub(s, axis=\"index\")"
   ]
  },
  {
   "cell_type": "code",
   "execution_count": 85,
   "metadata": {},
   "outputs": [
    {
     "data": {
      "text/plain": "                   A         B         C  D    F\n2013-01-01  0.000000  0.000000 -1.255487  5  NaN\n2013-01-02  0.346927  0.582459 -2.182296  5  1.0\n2013-01-03  0.050946  1.392522 -0.105310  5  2.0\n2013-01-04 -0.507630 -0.490599 -0.669263  5  3.0\n2013-01-05  0.315369 -0.304080 -0.698243  5  4.0\n2013-01-06 -1.687627  0.321909 -0.118029  5  5.0",
      "text/html": "<div>\n<style scoped>\n    .dataframe tbody tr th:only-of-type {\n        vertical-align: middle;\n    }\n\n    .dataframe tbody tr th {\n        vertical-align: top;\n    }\n\n    .dataframe thead th {\n        text-align: right;\n    }\n</style>\n<table border=\"1\" class=\"dataframe\">\n  <thead>\n    <tr style=\"text-align: right;\">\n      <th></th>\n      <th>A</th>\n      <th>B</th>\n      <th>C</th>\n      <th>D</th>\n      <th>F</th>\n    </tr>\n  </thead>\n  <tbody>\n    <tr>\n      <th>2013-01-01</th>\n      <td>0.000000</td>\n      <td>0.000000</td>\n      <td>-1.255487</td>\n      <td>5</td>\n      <td>NaN</td>\n    </tr>\n    <tr>\n      <th>2013-01-02</th>\n      <td>0.346927</td>\n      <td>0.582459</td>\n      <td>-2.182296</td>\n      <td>5</td>\n      <td>1.0</td>\n    </tr>\n    <tr>\n      <th>2013-01-03</th>\n      <td>0.050946</td>\n      <td>1.392522</td>\n      <td>-0.105310</td>\n      <td>5</td>\n      <td>2.0</td>\n    </tr>\n    <tr>\n      <th>2013-01-04</th>\n      <td>-0.507630</td>\n      <td>-0.490599</td>\n      <td>-0.669263</td>\n      <td>5</td>\n      <td>3.0</td>\n    </tr>\n    <tr>\n      <th>2013-01-05</th>\n      <td>0.315369</td>\n      <td>-0.304080</td>\n      <td>-0.698243</td>\n      <td>5</td>\n      <td>4.0</td>\n    </tr>\n    <tr>\n      <th>2013-01-06</th>\n      <td>-1.687627</td>\n      <td>0.321909</td>\n      <td>-0.118029</td>\n      <td>5</td>\n      <td>5.0</td>\n    </tr>\n  </tbody>\n</table>\n</div>"
     },
     "execution_count": 85,
     "metadata": {},
     "output_type": "execute_result"
    }
   ],
   "source": [
    "df"
   ]
  },
  {
   "cell_type": "markdown",
   "metadata": {},
   "source": [
    "## Apply"
   ]
  },
  {
   "cell_type": "code",
   "execution_count": 86,
   "metadata": {},
   "outputs": [
    {
     "data": {
      "text/plain": "                   A         B         C   D     F\n2013-01-01  0.000000  0.000000 -1.255487   5   NaN\n2013-01-02  0.346927  0.582459 -3.437783  10   1.0\n2013-01-03  0.397873  1.974981 -3.543093  15   3.0\n2013-01-04 -0.109757  1.484383 -4.212356  20   6.0\n2013-01-05  0.205612  1.180302 -4.910598  25  10.0\n2013-01-06 -1.482015  1.502212 -5.028627  30  15.0",
      "text/html": "<div>\n<style scoped>\n    .dataframe tbody tr th:only-of-type {\n        vertical-align: middle;\n    }\n\n    .dataframe tbody tr th {\n        vertical-align: top;\n    }\n\n    .dataframe thead th {\n        text-align: right;\n    }\n</style>\n<table border=\"1\" class=\"dataframe\">\n  <thead>\n    <tr style=\"text-align: right;\">\n      <th></th>\n      <th>A</th>\n      <th>B</th>\n      <th>C</th>\n      <th>D</th>\n      <th>F</th>\n    </tr>\n  </thead>\n  <tbody>\n    <tr>\n      <th>2013-01-01</th>\n      <td>0.000000</td>\n      <td>0.000000</td>\n      <td>-1.255487</td>\n      <td>5</td>\n      <td>NaN</td>\n    </tr>\n    <tr>\n      <th>2013-01-02</th>\n      <td>0.346927</td>\n      <td>0.582459</td>\n      <td>-3.437783</td>\n      <td>10</td>\n      <td>1.0</td>\n    </tr>\n    <tr>\n      <th>2013-01-03</th>\n      <td>0.397873</td>\n      <td>1.974981</td>\n      <td>-3.543093</td>\n      <td>15</td>\n      <td>3.0</td>\n    </tr>\n    <tr>\n      <th>2013-01-04</th>\n      <td>-0.109757</td>\n      <td>1.484383</td>\n      <td>-4.212356</td>\n      <td>20</td>\n      <td>6.0</td>\n    </tr>\n    <tr>\n      <th>2013-01-05</th>\n      <td>0.205612</td>\n      <td>1.180302</td>\n      <td>-4.910598</td>\n      <td>25</td>\n      <td>10.0</td>\n    </tr>\n    <tr>\n      <th>2013-01-06</th>\n      <td>-1.482015</td>\n      <td>1.502212</td>\n      <td>-5.028627</td>\n      <td>30</td>\n      <td>15.0</td>\n    </tr>\n  </tbody>\n</table>\n</div>"
     },
     "execution_count": 86,
     "metadata": {},
     "output_type": "execute_result"
    }
   ],
   "source": [
    "df.apply(np.cumsum)"
   ]
  },
  {
   "cell_type": "markdown",
   "metadata": {},
   "source": [
    "## Histogramming"
   ]
  },
  {
   "cell_type": "code",
   "execution_count": 87,
   "metadata": {},
   "outputs": [],
   "source": [
    "s = pd.Series(np.random.randint(0, 7, size = 10))"
   ]
  },
  {
   "cell_type": "code",
   "execution_count": 88,
   "metadata": {},
   "outputs": [
    {
     "data": {
      "text/plain": "0    1\n1    1\n2    3\n3    6\n4    6\n5    3\n6    4\n7    2\n8    0\n9    6\ndtype: int32"
     },
     "execution_count": 88,
     "metadata": {},
     "output_type": "execute_result"
    }
   ],
   "source": [
    "s"
   ]
  },
  {
   "cell_type": "code",
   "execution_count": 89,
   "metadata": {},
   "outputs": [
    {
     "data": {
      "text/plain": "6    3\n1    2\n3    2\n4    1\n2    1\n0    1\ndtype: int64"
     },
     "execution_count": 89,
     "metadata": {},
     "output_type": "execute_result"
    }
   ],
   "source": [
    "s.value_counts()"
   ]
  },
  {
   "cell_type": "markdown",
   "metadata": {},
   "source": [
    "## String Methods"
   ]
  },
  {
   "cell_type": "code",
   "execution_count": 90,
   "metadata": {},
   "outputs": [],
   "source": [
    "s = pd.Series([\"A\", \"B\", \"C\", \"Aaba\", \"Baca\", np.nan, \"CABA\", \"dog\", \"cat\"])"
   ]
  },
  {
   "cell_type": "code",
   "execution_count": 91,
   "metadata": {},
   "outputs": [
    {
     "data": {
      "text/plain": "0       A\n1       B\n2       C\n3    Aaba\n4    Baca\n5     NaN\n6    CABA\n7     dog\n8     cat\ndtype: object"
     },
     "execution_count": 91,
     "metadata": {},
     "output_type": "execute_result"
    }
   ],
   "source": [
    "s"
   ]
  },
  {
   "cell_type": "code",
   "execution_count": 92,
   "metadata": {},
   "outputs": [
    {
     "data": {
      "text/plain": "0       a\n1       b\n2       c\n3    aaba\n4    baca\n5     NaN\n6    caba\n7     dog\n8     cat\ndtype: object"
     },
     "execution_count": 92,
     "metadata": {},
     "output_type": "execute_result"
    }
   ],
   "source": [
    "s.str.lower()"
   ]
  },
  {
   "cell_type": "markdown",
   "metadata": {},
   "source": [
    "## Merge"
   ]
  },
  {
   "cell_type": "markdown",
   "metadata": {},
   "source": [
    "### Concat"
   ]
  },
  {
   "cell_type": "code",
   "execution_count": 93,
   "metadata": {},
   "outputs": [],
   "source": [
    "df = pd.DataFrame(np.random.randn(10, 4))"
   ]
  },
  {
   "cell_type": "code",
   "execution_count": 94,
   "metadata": {},
   "outputs": [
    {
     "data": {
      "text/plain": "          0         1         2         3\n0 -0.928096  1.297144  0.132892  0.837352\n1 -0.985834 -0.118984  1.368901 -0.363878\n2 -1.006312 -0.807825  1.712222  0.906722\n3  0.207574 -0.720292  0.076301 -2.179838\n4  0.542538  0.845000  0.500872  0.739460\n5  0.780090  0.583805  2.310931 -0.315143\n6  0.536649  0.239721  0.949742  1.361176\n7 -1.289929 -0.103578  0.161089 -0.305781\n8 -0.388038  2.217114  0.779255  0.100601\n9  0.148860  1.211055  0.472823 -0.807098",
      "text/html": "<div>\n<style scoped>\n    .dataframe tbody tr th:only-of-type {\n        vertical-align: middle;\n    }\n\n    .dataframe tbody tr th {\n        vertical-align: top;\n    }\n\n    .dataframe thead th {\n        text-align: right;\n    }\n</style>\n<table border=\"1\" class=\"dataframe\">\n  <thead>\n    <tr style=\"text-align: right;\">\n      <th></th>\n      <th>0</th>\n      <th>1</th>\n      <th>2</th>\n      <th>3</th>\n    </tr>\n  </thead>\n  <tbody>\n    <tr>\n      <th>0</th>\n      <td>-0.928096</td>\n      <td>1.297144</td>\n      <td>0.132892</td>\n      <td>0.837352</td>\n    </tr>\n    <tr>\n      <th>1</th>\n      <td>-0.985834</td>\n      <td>-0.118984</td>\n      <td>1.368901</td>\n      <td>-0.363878</td>\n    </tr>\n    <tr>\n      <th>2</th>\n      <td>-1.006312</td>\n      <td>-0.807825</td>\n      <td>1.712222</td>\n      <td>0.906722</td>\n    </tr>\n    <tr>\n      <th>3</th>\n      <td>0.207574</td>\n      <td>-0.720292</td>\n      <td>0.076301</td>\n      <td>-2.179838</td>\n    </tr>\n    <tr>\n      <th>4</th>\n      <td>0.542538</td>\n      <td>0.845000</td>\n      <td>0.500872</td>\n      <td>0.739460</td>\n    </tr>\n    <tr>\n      <th>5</th>\n      <td>0.780090</td>\n      <td>0.583805</td>\n      <td>2.310931</td>\n      <td>-0.315143</td>\n    </tr>\n    <tr>\n      <th>6</th>\n      <td>0.536649</td>\n      <td>0.239721</td>\n      <td>0.949742</td>\n      <td>1.361176</td>\n    </tr>\n    <tr>\n      <th>7</th>\n      <td>-1.289929</td>\n      <td>-0.103578</td>\n      <td>0.161089</td>\n      <td>-0.305781</td>\n    </tr>\n    <tr>\n      <th>8</th>\n      <td>-0.388038</td>\n      <td>2.217114</td>\n      <td>0.779255</td>\n      <td>0.100601</td>\n    </tr>\n    <tr>\n      <th>9</th>\n      <td>0.148860</td>\n      <td>1.211055</td>\n      <td>0.472823</td>\n      <td>-0.807098</td>\n    </tr>\n  </tbody>\n</table>\n</div>"
     },
     "execution_count": 94,
     "metadata": {},
     "output_type": "execute_result"
    }
   ],
   "source": [
    "df"
   ]
  },
  {
   "cell_type": "code",
   "execution_count": 95,
   "metadata": {},
   "outputs": [],
   "source": [
    "pieces = [df[:3], df[3:7], df[7:]]"
   ]
  },
  {
   "cell_type": "code",
   "execution_count": 96,
   "metadata": {},
   "outputs": [
    {
     "data": {
      "text/plain": "[          0         1         2         3\n 0 -0.928096  1.297144  0.132892  0.837352\n 1 -0.985834 -0.118984  1.368901 -0.363878\n 2 -1.006312 -0.807825  1.712222  0.906722,\n           0         1         2         3\n 3  0.207574 -0.720292  0.076301 -2.179838\n 4  0.542538  0.845000  0.500872  0.739460\n 5  0.780090  0.583805  2.310931 -0.315143\n 6  0.536649  0.239721  0.949742  1.361176,\n           0         1         2         3\n 7 -1.289929 -0.103578  0.161089 -0.305781\n 8 -0.388038  2.217114  0.779255  0.100601\n 9  0.148860  1.211055  0.472823 -0.807098]"
     },
     "execution_count": 96,
     "metadata": {},
     "output_type": "execute_result"
    }
   ],
   "source": [
    "pieces"
   ]
  },
  {
   "cell_type": "code",
   "execution_count": 97,
   "metadata": {},
   "outputs": [
    {
     "data": {
      "text/plain": "          0         1         2         3\n0 -0.928096  1.297144  0.132892  0.837352\n1 -0.985834 -0.118984  1.368901 -0.363878\n2 -1.006312 -0.807825  1.712222  0.906722\n3  0.207574 -0.720292  0.076301 -2.179838\n4  0.542538  0.845000  0.500872  0.739460\n5  0.780090  0.583805  2.310931 -0.315143\n6  0.536649  0.239721  0.949742  1.361176\n7 -1.289929 -0.103578  0.161089 -0.305781\n8 -0.388038  2.217114  0.779255  0.100601\n9  0.148860  1.211055  0.472823 -0.807098",
      "text/html": "<div>\n<style scoped>\n    .dataframe tbody tr th:only-of-type {\n        vertical-align: middle;\n    }\n\n    .dataframe tbody tr th {\n        vertical-align: top;\n    }\n\n    .dataframe thead th {\n        text-align: right;\n    }\n</style>\n<table border=\"1\" class=\"dataframe\">\n  <thead>\n    <tr style=\"text-align: right;\">\n      <th></th>\n      <th>0</th>\n      <th>1</th>\n      <th>2</th>\n      <th>3</th>\n    </tr>\n  </thead>\n  <tbody>\n    <tr>\n      <th>0</th>\n      <td>-0.928096</td>\n      <td>1.297144</td>\n      <td>0.132892</td>\n      <td>0.837352</td>\n    </tr>\n    <tr>\n      <th>1</th>\n      <td>-0.985834</td>\n      <td>-0.118984</td>\n      <td>1.368901</td>\n      <td>-0.363878</td>\n    </tr>\n    <tr>\n      <th>2</th>\n      <td>-1.006312</td>\n      <td>-0.807825</td>\n      <td>1.712222</td>\n      <td>0.906722</td>\n    </tr>\n    <tr>\n      <th>3</th>\n      <td>0.207574</td>\n      <td>-0.720292</td>\n      <td>0.076301</td>\n      <td>-2.179838</td>\n    </tr>\n    <tr>\n      <th>4</th>\n      <td>0.542538</td>\n      <td>0.845000</td>\n      <td>0.500872</td>\n      <td>0.739460</td>\n    </tr>\n    <tr>\n      <th>5</th>\n      <td>0.780090</td>\n      <td>0.583805</td>\n      <td>2.310931</td>\n      <td>-0.315143</td>\n    </tr>\n    <tr>\n      <th>6</th>\n      <td>0.536649</td>\n      <td>0.239721</td>\n      <td>0.949742</td>\n      <td>1.361176</td>\n    </tr>\n    <tr>\n      <th>7</th>\n      <td>-1.289929</td>\n      <td>-0.103578</td>\n      <td>0.161089</td>\n      <td>-0.305781</td>\n    </tr>\n    <tr>\n      <th>8</th>\n      <td>-0.388038</td>\n      <td>2.217114</td>\n      <td>0.779255</td>\n      <td>0.100601</td>\n    </tr>\n    <tr>\n      <th>9</th>\n      <td>0.148860</td>\n      <td>1.211055</td>\n      <td>0.472823</td>\n      <td>-0.807098</td>\n    </tr>\n  </tbody>\n</table>\n</div>"
     },
     "execution_count": 97,
     "metadata": {},
     "output_type": "execute_result"
    }
   ],
   "source": [
    "pd.concat(pieces)"
   ]
  },
  {
   "cell_type": "markdown",
   "metadata": {},
   "source": [
    "### Join"
   ]
  },
  {
   "cell_type": "code",
   "execution_count": 98,
   "metadata": {},
   "outputs": [],
   "source": [
    "left = pd.DataFrame({\"key\": [\"foo\", \"foo\"], \"lval\": [1, 2]})"
   ]
  },
  {
   "cell_type": "code",
   "execution_count": 99,
   "metadata": {},
   "outputs": [
    {
     "data": {
      "text/plain": "   key  lval\n0  foo     1\n1  foo     2",
      "text/html": "<div>\n<style scoped>\n    .dataframe tbody tr th:only-of-type {\n        vertical-align: middle;\n    }\n\n    .dataframe tbody tr th {\n        vertical-align: top;\n    }\n\n    .dataframe thead th {\n        text-align: right;\n    }\n</style>\n<table border=\"1\" class=\"dataframe\">\n  <thead>\n    <tr style=\"text-align: right;\">\n      <th></th>\n      <th>key</th>\n      <th>lval</th>\n    </tr>\n  </thead>\n  <tbody>\n    <tr>\n      <th>0</th>\n      <td>foo</td>\n      <td>1</td>\n    </tr>\n    <tr>\n      <th>1</th>\n      <td>foo</td>\n      <td>2</td>\n    </tr>\n  </tbody>\n</table>\n</div>"
     },
     "execution_count": 99,
     "metadata": {},
     "output_type": "execute_result"
    }
   ],
   "source": [
    "left"
   ]
  },
  {
   "cell_type": "code",
   "execution_count": 100,
   "metadata": {},
   "outputs": [],
   "source": [
    "right = pd.DataFrame({\"key\": [\"foo\", \"foo\"], \"rval\": [4, 5]})"
   ]
  },
  {
   "cell_type": "code",
   "execution_count": 101,
   "metadata": {},
   "outputs": [
    {
     "data": {
      "text/plain": "   key  rval\n0  foo     4\n1  foo     5",
      "text/html": "<div>\n<style scoped>\n    .dataframe tbody tr th:only-of-type {\n        vertical-align: middle;\n    }\n\n    .dataframe tbody tr th {\n        vertical-align: top;\n    }\n\n    .dataframe thead th {\n        text-align: right;\n    }\n</style>\n<table border=\"1\" class=\"dataframe\">\n  <thead>\n    <tr style=\"text-align: right;\">\n      <th></th>\n      <th>key</th>\n      <th>rval</th>\n    </tr>\n  </thead>\n  <tbody>\n    <tr>\n      <th>0</th>\n      <td>foo</td>\n      <td>4</td>\n    </tr>\n    <tr>\n      <th>1</th>\n      <td>foo</td>\n      <td>5</td>\n    </tr>\n  </tbody>\n</table>\n</div>"
     },
     "execution_count": 101,
     "metadata": {},
     "output_type": "execute_result"
    }
   ],
   "source": [
    "right"
   ]
  },
  {
   "cell_type": "code",
   "execution_count": 102,
   "metadata": {},
   "outputs": [
    {
     "data": {
      "text/plain": "   key  lval  rval\n0  foo     1     4\n1  foo     1     5\n2  foo     2     4\n3  foo     2     5",
      "text/html": "<div>\n<style scoped>\n    .dataframe tbody tr th:only-of-type {\n        vertical-align: middle;\n    }\n\n    .dataframe tbody tr th {\n        vertical-align: top;\n    }\n\n    .dataframe thead th {\n        text-align: right;\n    }\n</style>\n<table border=\"1\" class=\"dataframe\">\n  <thead>\n    <tr style=\"text-align: right;\">\n      <th></th>\n      <th>key</th>\n      <th>lval</th>\n      <th>rval</th>\n    </tr>\n  </thead>\n  <tbody>\n    <tr>\n      <th>0</th>\n      <td>foo</td>\n      <td>1</td>\n      <td>4</td>\n    </tr>\n    <tr>\n      <th>1</th>\n      <td>foo</td>\n      <td>1</td>\n      <td>5</td>\n    </tr>\n    <tr>\n      <th>2</th>\n      <td>foo</td>\n      <td>2</td>\n      <td>4</td>\n    </tr>\n    <tr>\n      <th>3</th>\n      <td>foo</td>\n      <td>2</td>\n      <td>5</td>\n    </tr>\n  </tbody>\n</table>\n</div>"
     },
     "execution_count": 102,
     "metadata": {},
     "output_type": "execute_result"
    }
   ],
   "source": [
    "pd.merge(left, right, on=\"key\")"
   ]
  },
  {
   "cell_type": "code",
   "execution_count": 103,
   "metadata": {},
   "outputs": [],
   "source": [
    "left = pd.DataFrame({\"key\": [\"foo\", \"bar\"], \"lval\": [1, 2]})"
   ]
  },
  {
   "cell_type": "code",
   "execution_count": 104,
   "metadata": {},
   "outputs": [],
   "source": [
    "right = pd.DataFrame({\"key\": [\"foo\", \"bar\"], \"rval\": [4, 5]})"
   ]
  },
  {
   "cell_type": "code",
   "execution_count": 105,
   "metadata": {},
   "outputs": [
    {
     "data": {
      "text/plain": "   key  lval\n0  foo     1\n1  bar     2",
      "text/html": "<div>\n<style scoped>\n    .dataframe tbody tr th:only-of-type {\n        vertical-align: middle;\n    }\n\n    .dataframe tbody tr th {\n        vertical-align: top;\n    }\n\n    .dataframe thead th {\n        text-align: right;\n    }\n</style>\n<table border=\"1\" class=\"dataframe\">\n  <thead>\n    <tr style=\"text-align: right;\">\n      <th></th>\n      <th>key</th>\n      <th>lval</th>\n    </tr>\n  </thead>\n  <tbody>\n    <tr>\n      <th>0</th>\n      <td>foo</td>\n      <td>1</td>\n    </tr>\n    <tr>\n      <th>1</th>\n      <td>bar</td>\n      <td>2</td>\n    </tr>\n  </tbody>\n</table>\n</div>"
     },
     "execution_count": 105,
     "metadata": {},
     "output_type": "execute_result"
    }
   ],
   "source": [
    "left"
   ]
  },
  {
   "cell_type": "code",
   "execution_count": 106,
   "metadata": {},
   "outputs": [
    {
     "data": {
      "text/plain": "   key  rval\n0  foo     4\n1  bar     5",
      "text/html": "<div>\n<style scoped>\n    .dataframe tbody tr th:only-of-type {\n        vertical-align: middle;\n    }\n\n    .dataframe tbody tr th {\n        vertical-align: top;\n    }\n\n    .dataframe thead th {\n        text-align: right;\n    }\n</style>\n<table border=\"1\" class=\"dataframe\">\n  <thead>\n    <tr style=\"text-align: right;\">\n      <th></th>\n      <th>key</th>\n      <th>rval</th>\n    </tr>\n  </thead>\n  <tbody>\n    <tr>\n      <th>0</th>\n      <td>foo</td>\n      <td>4</td>\n    </tr>\n    <tr>\n      <th>1</th>\n      <td>bar</td>\n      <td>5</td>\n    </tr>\n  </tbody>\n</table>\n</div>"
     },
     "execution_count": 106,
     "metadata": {},
     "output_type": "execute_result"
    }
   ],
   "source": [
    "right"
   ]
  },
  {
   "cell_type": "code",
   "execution_count": 107,
   "metadata": {},
   "outputs": [
    {
     "data": {
      "text/plain": "   key  lval  rval\n0  foo     1     4\n1  bar     2     5",
      "text/html": "<div>\n<style scoped>\n    .dataframe tbody tr th:only-of-type {\n        vertical-align: middle;\n    }\n\n    .dataframe tbody tr th {\n        vertical-align: top;\n    }\n\n    .dataframe thead th {\n        text-align: right;\n    }\n</style>\n<table border=\"1\" class=\"dataframe\">\n  <thead>\n    <tr style=\"text-align: right;\">\n      <th></th>\n      <th>key</th>\n      <th>lval</th>\n      <th>rval</th>\n    </tr>\n  </thead>\n  <tbody>\n    <tr>\n      <th>0</th>\n      <td>foo</td>\n      <td>1</td>\n      <td>4</td>\n    </tr>\n    <tr>\n      <th>1</th>\n      <td>bar</td>\n      <td>2</td>\n      <td>5</td>\n    </tr>\n  </tbody>\n</table>\n</div>"
     },
     "execution_count": 107,
     "metadata": {},
     "output_type": "execute_result"
    }
   ],
   "source": [
    "pd.merge(left, right, on=\"key\")"
   ]
  },
  {
   "cell_type": "markdown",
   "metadata": {},
   "source": [
    "## Grouping"
   ]
  },
  {
   "cell_type": "code",
   "execution_count": 108,
   "metadata": {},
   "outputs": [],
   "source": [
    "df = pd.DataFrame({\"A\": [\"foo\", \"bar\", \"foo\", \"bar\", \"foo\", \"bar\", \"foo\", \"foo\"], \n",
    "                   \"B\": [\"one\", \"one\", \"two\", \"three\", \"two\", \"two\", \"one\", \"three\"],\n",
    "                  \"C\": np.random.randn(8), \"D\": np.random.randn(8)})"
   ]
  },
  {
   "cell_type": "code",
   "execution_count": 109,
   "metadata": {},
   "outputs": [
    {
     "data": {
      "text/plain": "     A      B         C         D\n0  foo    one  1.004947 -0.331633\n1  bar    one -1.116799  0.173856\n2  foo    two -0.402002 -1.691534\n3  bar  three -0.020995 -1.356117\n4  foo    two  1.483458 -0.039666\n5  bar    two  1.720528  0.305224\n6  foo    one  1.139092 -0.667467\n7  foo  three -1.500426  1.096086",
      "text/html": "<div>\n<style scoped>\n    .dataframe tbody tr th:only-of-type {\n        vertical-align: middle;\n    }\n\n    .dataframe tbody tr th {\n        vertical-align: top;\n    }\n\n    .dataframe thead th {\n        text-align: right;\n    }\n</style>\n<table border=\"1\" class=\"dataframe\">\n  <thead>\n    <tr style=\"text-align: right;\">\n      <th></th>\n      <th>A</th>\n      <th>B</th>\n      <th>C</th>\n      <th>D</th>\n    </tr>\n  </thead>\n  <tbody>\n    <tr>\n      <th>0</th>\n      <td>foo</td>\n      <td>one</td>\n      <td>1.004947</td>\n      <td>-0.331633</td>\n    </tr>\n    <tr>\n      <th>1</th>\n      <td>bar</td>\n      <td>one</td>\n      <td>-1.116799</td>\n      <td>0.173856</td>\n    </tr>\n    <tr>\n      <th>2</th>\n      <td>foo</td>\n      <td>two</td>\n      <td>-0.402002</td>\n      <td>-1.691534</td>\n    </tr>\n    <tr>\n      <th>3</th>\n      <td>bar</td>\n      <td>three</td>\n      <td>-0.020995</td>\n      <td>-1.356117</td>\n    </tr>\n    <tr>\n      <th>4</th>\n      <td>foo</td>\n      <td>two</td>\n      <td>1.483458</td>\n      <td>-0.039666</td>\n    </tr>\n    <tr>\n      <th>5</th>\n      <td>bar</td>\n      <td>two</td>\n      <td>1.720528</td>\n      <td>0.305224</td>\n    </tr>\n    <tr>\n      <th>6</th>\n      <td>foo</td>\n      <td>one</td>\n      <td>1.139092</td>\n      <td>-0.667467</td>\n    </tr>\n    <tr>\n      <th>7</th>\n      <td>foo</td>\n      <td>three</td>\n      <td>-1.500426</td>\n      <td>1.096086</td>\n    </tr>\n  </tbody>\n</table>\n</div>"
     },
     "execution_count": 109,
     "metadata": {},
     "output_type": "execute_result"
    }
   ],
   "source": [
    "df"
   ]
  },
  {
   "cell_type": "code",
   "execution_count": 110,
   "metadata": {},
   "outputs": [
    {
     "data": {
      "text/plain": "            C         D\nA                      \nbar  0.582734 -0.877037\nfoo  1.725069 -1.634214",
      "text/html": "<div>\n<style scoped>\n    .dataframe tbody tr th:only-of-type {\n        vertical-align: middle;\n    }\n\n    .dataframe tbody tr th {\n        vertical-align: top;\n    }\n\n    .dataframe thead th {\n        text-align: right;\n    }\n</style>\n<table border=\"1\" class=\"dataframe\">\n  <thead>\n    <tr style=\"text-align: right;\">\n      <th></th>\n      <th>C</th>\n      <th>D</th>\n    </tr>\n    <tr>\n      <th>A</th>\n      <th></th>\n      <th></th>\n    </tr>\n  </thead>\n  <tbody>\n    <tr>\n      <th>bar</th>\n      <td>0.582734</td>\n      <td>-0.877037</td>\n    </tr>\n    <tr>\n      <th>foo</th>\n      <td>1.725069</td>\n      <td>-1.634214</td>\n    </tr>\n  </tbody>\n</table>\n</div>"
     },
     "execution_count": 110,
     "metadata": {},
     "output_type": "execute_result"
    }
   ],
   "source": [
    "df.groupby(\"A\").sum()"
   ]
  },
  {
   "cell_type": "code",
   "execution_count": 111,
   "metadata": {},
   "outputs": [
    {
     "data": {
      "text/plain": "              C         D\nB                        \none    1.027240 -0.825245\nthree -1.521422 -0.260031\ntwo    2.801984 -1.425975",
      "text/html": "<div>\n<style scoped>\n    .dataframe tbody tr th:only-of-type {\n        vertical-align: middle;\n    }\n\n    .dataframe tbody tr th {\n        vertical-align: top;\n    }\n\n    .dataframe thead th {\n        text-align: right;\n    }\n</style>\n<table border=\"1\" class=\"dataframe\">\n  <thead>\n    <tr style=\"text-align: right;\">\n      <th></th>\n      <th>C</th>\n      <th>D</th>\n    </tr>\n    <tr>\n      <th>B</th>\n      <th></th>\n      <th></th>\n    </tr>\n  </thead>\n  <tbody>\n    <tr>\n      <th>one</th>\n      <td>1.027240</td>\n      <td>-0.825245</td>\n    </tr>\n    <tr>\n      <th>three</th>\n      <td>-1.521422</td>\n      <td>-0.260031</td>\n    </tr>\n    <tr>\n      <th>two</th>\n      <td>2.801984</td>\n      <td>-1.425975</td>\n    </tr>\n  </tbody>\n</table>\n</div>"
     },
     "execution_count": 111,
     "metadata": {},
     "output_type": "execute_result"
    }
   ],
   "source": [
    "df.groupby(\"B\").sum()"
   ]
  },
  {
   "cell_type": "code",
   "execution_count": 112,
   "metadata": {},
   "outputs": [
    {
     "data": {
      "text/plain": "                  C         D\nA   B                        \nbar one   -1.116799  0.173856\n    three -0.020995 -1.356117\n    two    1.720528  0.305224\nfoo one    2.144039 -0.999101\n    three -1.500426  1.096086\n    two    1.081456 -1.731200",
      "text/html": "<div>\n<style scoped>\n    .dataframe tbody tr th:only-of-type {\n        vertical-align: middle;\n    }\n\n    .dataframe tbody tr th {\n        vertical-align: top;\n    }\n\n    .dataframe thead th {\n        text-align: right;\n    }\n</style>\n<table border=\"1\" class=\"dataframe\">\n  <thead>\n    <tr style=\"text-align: right;\">\n      <th></th>\n      <th></th>\n      <th>C</th>\n      <th>D</th>\n    </tr>\n    <tr>\n      <th>A</th>\n      <th>B</th>\n      <th></th>\n      <th></th>\n    </tr>\n  </thead>\n  <tbody>\n    <tr>\n      <th rowspan=\"3\" valign=\"top\">bar</th>\n      <th>one</th>\n      <td>-1.116799</td>\n      <td>0.173856</td>\n    </tr>\n    <tr>\n      <th>three</th>\n      <td>-0.020995</td>\n      <td>-1.356117</td>\n    </tr>\n    <tr>\n      <th>two</th>\n      <td>1.720528</td>\n      <td>0.305224</td>\n    </tr>\n    <tr>\n      <th rowspan=\"3\" valign=\"top\">foo</th>\n      <th>one</th>\n      <td>2.144039</td>\n      <td>-0.999101</td>\n    </tr>\n    <tr>\n      <th>three</th>\n      <td>-1.500426</td>\n      <td>1.096086</td>\n    </tr>\n    <tr>\n      <th>two</th>\n      <td>1.081456</td>\n      <td>-1.731200</td>\n    </tr>\n  </tbody>\n</table>\n</div>"
     },
     "execution_count": 112,
     "metadata": {},
     "output_type": "execute_result"
    }
   ],
   "source": [
    "df.groupby([\"A\", \"B\"]).sum()"
   ]
  },
  {
   "cell_type": "markdown",
   "metadata": {},
   "source": [
    "# Reshaping"
   ]
  },
  {
   "cell_type": "markdown",
   "metadata": {},
   "source": [
    "## Stack"
   ]
  },
  {
   "cell_type": "code",
   "execution_count": 113,
   "metadata": {},
   "outputs": [],
   "source": [
    "tuples = list(zip(*[[\"bar\", \"bar\", \"baz\", \"baz\", \"foo\", \"foo\", \"qux\", \"qux\"],\n",
    "                   [\"one\", \"two\", \"one\", \"two\", \"one\", \"two\", \"one\", \"two\"]]))"
   ]
  },
  {
   "cell_type": "code",
   "execution_count": 114,
   "metadata": {},
   "outputs": [],
   "source": [
    "index = pd.MultiIndex.from_tuples(tuples, names = [\"first\", \"second\"])"
   ]
  },
  {
   "cell_type": "code",
   "execution_count": 115,
   "metadata": {},
   "outputs": [],
   "source": [
    "df = pd.DataFrame(np.random.randn(8, 2), index = index, columns = [\"A\", \"B\"])"
   ]
  },
  {
   "cell_type": "code",
   "execution_count": 116,
   "metadata": {},
   "outputs": [
    {
     "data": {
      "text/plain": "                     A         B\nfirst second                    \nbar   one     0.003307  0.769368\n      two     0.284163  0.048921\nbaz   one     0.197496  0.249373\n      two     1.604645  1.100345\nfoo   one     0.533986 -0.499310\n      two     0.426330 -0.592791\nqux   one    -0.501946 -0.501218\n      two    -0.518120 -1.551385",
      "text/html": "<div>\n<style scoped>\n    .dataframe tbody tr th:only-of-type {\n        vertical-align: middle;\n    }\n\n    .dataframe tbody tr th {\n        vertical-align: top;\n    }\n\n    .dataframe thead th {\n        text-align: right;\n    }\n</style>\n<table border=\"1\" class=\"dataframe\">\n  <thead>\n    <tr style=\"text-align: right;\">\n      <th></th>\n      <th></th>\n      <th>A</th>\n      <th>B</th>\n    </tr>\n    <tr>\n      <th>first</th>\n      <th>second</th>\n      <th></th>\n      <th></th>\n    </tr>\n  </thead>\n  <tbody>\n    <tr>\n      <th rowspan=\"2\" valign=\"top\">bar</th>\n      <th>one</th>\n      <td>0.003307</td>\n      <td>0.769368</td>\n    </tr>\n    <tr>\n      <th>two</th>\n      <td>0.284163</td>\n      <td>0.048921</td>\n    </tr>\n    <tr>\n      <th rowspan=\"2\" valign=\"top\">baz</th>\n      <th>one</th>\n      <td>0.197496</td>\n      <td>0.249373</td>\n    </tr>\n    <tr>\n      <th>two</th>\n      <td>1.604645</td>\n      <td>1.100345</td>\n    </tr>\n    <tr>\n      <th rowspan=\"2\" valign=\"top\">foo</th>\n      <th>one</th>\n      <td>0.533986</td>\n      <td>-0.499310</td>\n    </tr>\n    <tr>\n      <th>two</th>\n      <td>0.426330</td>\n      <td>-0.592791</td>\n    </tr>\n    <tr>\n      <th rowspan=\"2\" valign=\"top\">qux</th>\n      <th>one</th>\n      <td>-0.501946</td>\n      <td>-0.501218</td>\n    </tr>\n    <tr>\n      <th>two</th>\n      <td>-0.518120</td>\n      <td>-1.551385</td>\n    </tr>\n  </tbody>\n</table>\n</div>"
     },
     "execution_count": 116,
     "metadata": {},
     "output_type": "execute_result"
    }
   ],
   "source": [
    "df"
   ]
  },
  {
   "cell_type": "code",
   "execution_count": 117,
   "metadata": {},
   "outputs": [],
   "source": [
    "df2 = df[:4]"
   ]
  },
  {
   "cell_type": "code",
   "execution_count": 118,
   "metadata": {},
   "outputs": [
    {
     "data": {
      "text/plain": "                     A         B\nfirst second                    \nbar   one     0.003307  0.769368\n      two     0.284163  0.048921\nbaz   one     0.197496  0.249373\n      two     1.604645  1.100345",
      "text/html": "<div>\n<style scoped>\n    .dataframe tbody tr th:only-of-type {\n        vertical-align: middle;\n    }\n\n    .dataframe tbody tr th {\n        vertical-align: top;\n    }\n\n    .dataframe thead th {\n        text-align: right;\n    }\n</style>\n<table border=\"1\" class=\"dataframe\">\n  <thead>\n    <tr style=\"text-align: right;\">\n      <th></th>\n      <th></th>\n      <th>A</th>\n      <th>B</th>\n    </tr>\n    <tr>\n      <th>first</th>\n      <th>second</th>\n      <th></th>\n      <th></th>\n    </tr>\n  </thead>\n  <tbody>\n    <tr>\n      <th rowspan=\"2\" valign=\"top\">bar</th>\n      <th>one</th>\n      <td>0.003307</td>\n      <td>0.769368</td>\n    </tr>\n    <tr>\n      <th>two</th>\n      <td>0.284163</td>\n      <td>0.048921</td>\n    </tr>\n    <tr>\n      <th rowspan=\"2\" valign=\"top\">baz</th>\n      <th>one</th>\n      <td>0.197496</td>\n      <td>0.249373</td>\n    </tr>\n    <tr>\n      <th>two</th>\n      <td>1.604645</td>\n      <td>1.100345</td>\n    </tr>\n  </tbody>\n</table>\n</div>"
     },
     "execution_count": 118,
     "metadata": {},
     "output_type": "execute_result"
    }
   ],
   "source": [
    "df2"
   ]
  },
  {
   "cell_type": "code",
   "execution_count": 119,
   "metadata": {},
   "outputs": [],
   "source": [
    "stacked = df2.stack()"
   ]
  },
  {
   "cell_type": "code",
   "execution_count": 120,
   "metadata": {},
   "outputs": [
    {
     "data": {
      "text/plain": "first  second   \nbar    one     A    0.003307\n               B    0.769368\n       two     A    0.284163\n               B    0.048921\nbaz    one     A    0.197496\n               B    0.249373\n       two     A    1.604645\n               B    1.100345\ndtype: float64"
     },
     "execution_count": 120,
     "metadata": {},
     "output_type": "execute_result"
    }
   ],
   "source": [
    "stacked"
   ]
  },
  {
   "cell_type": "code",
   "execution_count": 121,
   "metadata": {},
   "outputs": [
    {
     "data": {
      "text/plain": "                     A         B\nfirst second                    \nbar   one     0.003307  0.769368\n      two     0.284163  0.048921\nbaz   one     0.197496  0.249373\n      two     1.604645  1.100345",
      "text/html": "<div>\n<style scoped>\n    .dataframe tbody tr th:only-of-type {\n        vertical-align: middle;\n    }\n\n    .dataframe tbody tr th {\n        vertical-align: top;\n    }\n\n    .dataframe thead th {\n        text-align: right;\n    }\n</style>\n<table border=\"1\" class=\"dataframe\">\n  <thead>\n    <tr style=\"text-align: right;\">\n      <th></th>\n      <th></th>\n      <th>A</th>\n      <th>B</th>\n    </tr>\n    <tr>\n      <th>first</th>\n      <th>second</th>\n      <th></th>\n      <th></th>\n    </tr>\n  </thead>\n  <tbody>\n    <tr>\n      <th rowspan=\"2\" valign=\"top\">bar</th>\n      <th>one</th>\n      <td>0.003307</td>\n      <td>0.769368</td>\n    </tr>\n    <tr>\n      <th>two</th>\n      <td>0.284163</td>\n      <td>0.048921</td>\n    </tr>\n    <tr>\n      <th rowspan=\"2\" valign=\"top\">baz</th>\n      <th>one</th>\n      <td>0.197496</td>\n      <td>0.249373</td>\n    </tr>\n    <tr>\n      <th>two</th>\n      <td>1.604645</td>\n      <td>1.100345</td>\n    </tr>\n  </tbody>\n</table>\n</div>"
     },
     "execution_count": 121,
     "metadata": {},
     "output_type": "execute_result"
    }
   ],
   "source": [
    "stacked.unstack()"
   ]
  },
  {
   "cell_type": "code",
   "execution_count": 122,
   "metadata": {},
   "outputs": [
    {
     "data": {
      "text/plain": "second        one       two\nfirst                      \nbar   A  0.003307  0.284163\n      B  0.769368  0.048921\nbaz   A  0.197496  1.604645\n      B  0.249373  1.100345",
      "text/html": "<div>\n<style scoped>\n    .dataframe tbody tr th:only-of-type {\n        vertical-align: middle;\n    }\n\n    .dataframe tbody tr th {\n        vertical-align: top;\n    }\n\n    .dataframe thead th {\n        text-align: right;\n    }\n</style>\n<table border=\"1\" class=\"dataframe\">\n  <thead>\n    <tr style=\"text-align: right;\">\n      <th></th>\n      <th>second</th>\n      <th>one</th>\n      <th>two</th>\n    </tr>\n    <tr>\n      <th>first</th>\n      <th></th>\n      <th></th>\n      <th></th>\n    </tr>\n  </thead>\n  <tbody>\n    <tr>\n      <th rowspan=\"2\" valign=\"top\">bar</th>\n      <th>A</th>\n      <td>0.003307</td>\n      <td>0.284163</td>\n    </tr>\n    <tr>\n      <th>B</th>\n      <td>0.769368</td>\n      <td>0.048921</td>\n    </tr>\n    <tr>\n      <th rowspan=\"2\" valign=\"top\">baz</th>\n      <th>A</th>\n      <td>0.197496</td>\n      <td>1.604645</td>\n    </tr>\n    <tr>\n      <th>B</th>\n      <td>0.249373</td>\n      <td>1.100345</td>\n    </tr>\n  </tbody>\n</table>\n</div>"
     },
     "execution_count": 122,
     "metadata": {},
     "output_type": "execute_result"
    }
   ],
   "source": [
    "stacked.unstack(1)"
   ]
  },
  {
   "cell_type": "code",
   "execution_count": 123,
   "metadata": {},
   "outputs": [
    {
     "data": {
      "text/plain": "first          bar       baz\nsecond                      \none    A  0.003307  0.197496\n       B  0.769368  0.249373\ntwo    A  0.284163  1.604645\n       B  0.048921  1.100345",
      "text/html": "<div>\n<style scoped>\n    .dataframe tbody tr th:only-of-type {\n        vertical-align: middle;\n    }\n\n    .dataframe tbody tr th {\n        vertical-align: top;\n    }\n\n    .dataframe thead th {\n        text-align: right;\n    }\n</style>\n<table border=\"1\" class=\"dataframe\">\n  <thead>\n    <tr style=\"text-align: right;\">\n      <th></th>\n      <th>first</th>\n      <th>bar</th>\n      <th>baz</th>\n    </tr>\n    <tr>\n      <th>second</th>\n      <th></th>\n      <th></th>\n      <th></th>\n    </tr>\n  </thead>\n  <tbody>\n    <tr>\n      <th rowspan=\"2\" valign=\"top\">one</th>\n      <th>A</th>\n      <td>0.003307</td>\n      <td>0.197496</td>\n    </tr>\n    <tr>\n      <th>B</th>\n      <td>0.769368</td>\n      <td>0.249373</td>\n    </tr>\n    <tr>\n      <th rowspan=\"2\" valign=\"top\">two</th>\n      <th>A</th>\n      <td>0.284163</td>\n      <td>1.604645</td>\n    </tr>\n    <tr>\n      <th>B</th>\n      <td>0.048921</td>\n      <td>1.100345</td>\n    </tr>\n  </tbody>\n</table>\n</div>"
     },
     "execution_count": 123,
     "metadata": {},
     "output_type": "execute_result"
    }
   ],
   "source": [
    "stacked.unstack(0)"
   ]
  },
  {
   "cell_type": "markdown",
   "metadata": {},
   "source": [
    "## Pivot Tables"
   ]
  },
  {
   "cell_type": "code",
   "execution_count": 124,
   "metadata": {},
   "outputs": [],
   "source": [
    "df = pd.DataFrame({\n",
    "   .....:         \"A\": [\"one\", \"one\", \"two\", \"three\"] * 3,\n",
    "   .....:         \"B\": [\"A\", \"B\", \"C\"] * 4,\n",
    "   .....:         \"C\": [\"foo\", \"foo\", \"foo\", \"bar\", \"bar\", \"bar\"] * 2,\n",
    "   .....:         \"D\": np.random.randn(12),\n",
    "   .....:         \"E\": np.random.randn(12),\n",
    "   .....:     } )"
   ]
  },
  {
   "cell_type": "code",
   "execution_count": 125,
   "metadata": {},
   "outputs": [
    {
     "data": {
      "text/plain": "        A  B    C         D         E\n0     one  A  foo  1.143093  1.300145\n1     one  B  foo  1.280808  1.116960\n2     two  C  foo -1.930109  0.728255\n3   three  A  bar -0.758598 -0.071859\n4     one  B  bar  0.440737 -1.126918\n5     one  C  bar -0.367850  0.360953\n6     two  A  foo  1.551674  0.966881\n7   three  B  foo  0.778658 -0.819164\n8     one  C  foo -2.306613  1.151894\n9     one  A  bar  0.007787 -0.695879\n10    two  B  bar  0.824651 -0.159324\n11  three  C  bar -0.269641  0.545308",
      "text/html": "<div>\n<style scoped>\n    .dataframe tbody tr th:only-of-type {\n        vertical-align: middle;\n    }\n\n    .dataframe tbody tr th {\n        vertical-align: top;\n    }\n\n    .dataframe thead th {\n        text-align: right;\n    }\n</style>\n<table border=\"1\" class=\"dataframe\">\n  <thead>\n    <tr style=\"text-align: right;\">\n      <th></th>\n      <th>A</th>\n      <th>B</th>\n      <th>C</th>\n      <th>D</th>\n      <th>E</th>\n    </tr>\n  </thead>\n  <tbody>\n    <tr>\n      <th>0</th>\n      <td>one</td>\n      <td>A</td>\n      <td>foo</td>\n      <td>1.143093</td>\n      <td>1.300145</td>\n    </tr>\n    <tr>\n      <th>1</th>\n      <td>one</td>\n      <td>B</td>\n      <td>foo</td>\n      <td>1.280808</td>\n      <td>1.116960</td>\n    </tr>\n    <tr>\n      <th>2</th>\n      <td>two</td>\n      <td>C</td>\n      <td>foo</td>\n      <td>-1.930109</td>\n      <td>0.728255</td>\n    </tr>\n    <tr>\n      <th>3</th>\n      <td>three</td>\n      <td>A</td>\n      <td>bar</td>\n      <td>-0.758598</td>\n      <td>-0.071859</td>\n    </tr>\n    <tr>\n      <th>4</th>\n      <td>one</td>\n      <td>B</td>\n      <td>bar</td>\n      <td>0.440737</td>\n      <td>-1.126918</td>\n    </tr>\n    <tr>\n      <th>5</th>\n      <td>one</td>\n      <td>C</td>\n      <td>bar</td>\n      <td>-0.367850</td>\n      <td>0.360953</td>\n    </tr>\n    <tr>\n      <th>6</th>\n      <td>two</td>\n      <td>A</td>\n      <td>foo</td>\n      <td>1.551674</td>\n      <td>0.966881</td>\n    </tr>\n    <tr>\n      <th>7</th>\n      <td>three</td>\n      <td>B</td>\n      <td>foo</td>\n      <td>0.778658</td>\n      <td>-0.819164</td>\n    </tr>\n    <tr>\n      <th>8</th>\n      <td>one</td>\n      <td>C</td>\n      <td>foo</td>\n      <td>-2.306613</td>\n      <td>1.151894</td>\n    </tr>\n    <tr>\n      <th>9</th>\n      <td>one</td>\n      <td>A</td>\n      <td>bar</td>\n      <td>0.007787</td>\n      <td>-0.695879</td>\n    </tr>\n    <tr>\n      <th>10</th>\n      <td>two</td>\n      <td>B</td>\n      <td>bar</td>\n      <td>0.824651</td>\n      <td>-0.159324</td>\n    </tr>\n    <tr>\n      <th>11</th>\n      <td>three</td>\n      <td>C</td>\n      <td>bar</td>\n      <td>-0.269641</td>\n      <td>0.545308</td>\n    </tr>\n  </tbody>\n</table>\n</div>"
     },
     "execution_count": 125,
     "metadata": {},
     "output_type": "execute_result"
    }
   ],
   "source": [
    "df"
   ]
  },
  {
   "cell_type": "code",
   "execution_count": 126,
   "metadata": {},
   "outputs": [
    {
     "data": {
      "text/plain": "C             bar       foo\nA     B                    \none   A  0.007787  1.143093\n      B  0.440737  1.280808\n      C -0.367850 -2.306613\nthree A -0.758598       NaN\n      B       NaN  0.778658\n      C -0.269641       NaN\ntwo   A       NaN  1.551674\n      B  0.824651       NaN\n      C       NaN -1.930109",
      "text/html": "<div>\n<style scoped>\n    .dataframe tbody tr th:only-of-type {\n        vertical-align: middle;\n    }\n\n    .dataframe tbody tr th {\n        vertical-align: top;\n    }\n\n    .dataframe thead th {\n        text-align: right;\n    }\n</style>\n<table border=\"1\" class=\"dataframe\">\n  <thead>\n    <tr style=\"text-align: right;\">\n      <th></th>\n      <th>C</th>\n      <th>bar</th>\n      <th>foo</th>\n    </tr>\n    <tr>\n      <th>A</th>\n      <th>B</th>\n      <th></th>\n      <th></th>\n    </tr>\n  </thead>\n  <tbody>\n    <tr>\n      <th rowspan=\"3\" valign=\"top\">one</th>\n      <th>A</th>\n      <td>0.007787</td>\n      <td>1.143093</td>\n    </tr>\n    <tr>\n      <th>B</th>\n      <td>0.440737</td>\n      <td>1.280808</td>\n    </tr>\n    <tr>\n      <th>C</th>\n      <td>-0.367850</td>\n      <td>-2.306613</td>\n    </tr>\n    <tr>\n      <th rowspan=\"3\" valign=\"top\">three</th>\n      <th>A</th>\n      <td>-0.758598</td>\n      <td>NaN</td>\n    </tr>\n    <tr>\n      <th>B</th>\n      <td>NaN</td>\n      <td>0.778658</td>\n    </tr>\n    <tr>\n      <th>C</th>\n      <td>-0.269641</td>\n      <td>NaN</td>\n    </tr>\n    <tr>\n      <th rowspan=\"3\" valign=\"top\">two</th>\n      <th>A</th>\n      <td>NaN</td>\n      <td>1.551674</td>\n    </tr>\n    <tr>\n      <th>B</th>\n      <td>0.824651</td>\n      <td>NaN</td>\n    </tr>\n    <tr>\n      <th>C</th>\n      <td>NaN</td>\n      <td>-1.930109</td>\n    </tr>\n  </tbody>\n</table>\n</div>"
     },
     "execution_count": 126,
     "metadata": {},
     "output_type": "execute_result"
    }
   ],
   "source": [
    "pd.pivot_table(df, values=\"D\", index=[\"A\", \"B\"], columns=[\"C\"])"
   ]
  },
  {
   "cell_type": "code",
   "execution_count": 127,
   "metadata": {},
   "outputs": [
    {
     "data": {
      "text/plain": "B                 A         B         C\nA     C                                \none   bar  0.007787  0.440737 -0.367850\n      foo  1.143093  1.280808 -2.306613\nthree bar -0.758598       NaN -0.269641\n      foo       NaN  0.778658       NaN\ntwo   bar       NaN  0.824651       NaN\n      foo  1.551674       NaN -1.930109",
      "text/html": "<div>\n<style scoped>\n    .dataframe tbody tr th:only-of-type {\n        vertical-align: middle;\n    }\n\n    .dataframe tbody tr th {\n        vertical-align: top;\n    }\n\n    .dataframe thead th {\n        text-align: right;\n    }\n</style>\n<table border=\"1\" class=\"dataframe\">\n  <thead>\n    <tr style=\"text-align: right;\">\n      <th></th>\n      <th>B</th>\n      <th>A</th>\n      <th>B</th>\n      <th>C</th>\n    </tr>\n    <tr>\n      <th>A</th>\n      <th>C</th>\n      <th></th>\n      <th></th>\n      <th></th>\n    </tr>\n  </thead>\n  <tbody>\n    <tr>\n      <th rowspan=\"2\" valign=\"top\">one</th>\n      <th>bar</th>\n      <td>0.007787</td>\n      <td>0.440737</td>\n      <td>-0.367850</td>\n    </tr>\n    <tr>\n      <th>foo</th>\n      <td>1.143093</td>\n      <td>1.280808</td>\n      <td>-2.306613</td>\n    </tr>\n    <tr>\n      <th rowspan=\"2\" valign=\"top\">three</th>\n      <th>bar</th>\n      <td>-0.758598</td>\n      <td>NaN</td>\n      <td>-0.269641</td>\n    </tr>\n    <tr>\n      <th>foo</th>\n      <td>NaN</td>\n      <td>0.778658</td>\n      <td>NaN</td>\n    </tr>\n    <tr>\n      <th rowspan=\"2\" valign=\"top\">two</th>\n      <th>bar</th>\n      <td>NaN</td>\n      <td>0.824651</td>\n      <td>NaN</td>\n    </tr>\n    <tr>\n      <th>foo</th>\n      <td>1.551674</td>\n      <td>NaN</td>\n      <td>-1.930109</td>\n    </tr>\n  </tbody>\n</table>\n</div>"
     },
     "execution_count": 127,
     "metadata": {},
     "output_type": "execute_result"
    }
   ],
   "source": [
    "pd.pivot_table(df, values=\"D\", index=[\"A\", \"C\"], columns=[\"B\"])"
   ]
  },
  {
   "cell_type": "markdown",
   "metadata": {},
   "source": [
    "# Time series"
   ]
  },
  {
   "cell_type": "code",
   "execution_count": 128,
   "metadata": {},
   "outputs": [],
   "source": [
    "rng = pd.date_range(\"1/1/2012\", periods=100, freq=\"S\")"
   ]
  },
  {
   "cell_type": "code",
   "execution_count": 129,
   "metadata": {},
   "outputs": [],
   "source": [
    "ts = pd.Series(np.random.randint(0, 500, len(rng)), index=rng)"
   ]
  },
  {
   "cell_type": "code",
   "execution_count": 130,
   "metadata": {},
   "outputs": [
    {
     "data": {
      "text/plain": "DatetimeIndex(['2012-01-01 00:00:00', '2012-01-01 00:00:01',\n               '2012-01-01 00:00:02', '2012-01-01 00:00:03',\n               '2012-01-01 00:00:04', '2012-01-01 00:00:05',\n               '2012-01-01 00:00:06', '2012-01-01 00:00:07',\n               '2012-01-01 00:00:08', '2012-01-01 00:00:09',\n               '2012-01-01 00:00:10', '2012-01-01 00:00:11',\n               '2012-01-01 00:00:12', '2012-01-01 00:00:13',\n               '2012-01-01 00:00:14', '2012-01-01 00:00:15',\n               '2012-01-01 00:00:16', '2012-01-01 00:00:17',\n               '2012-01-01 00:00:18', '2012-01-01 00:00:19',\n               '2012-01-01 00:00:20', '2012-01-01 00:00:21',\n               '2012-01-01 00:00:22', '2012-01-01 00:00:23',\n               '2012-01-01 00:00:24', '2012-01-01 00:00:25',\n               '2012-01-01 00:00:26', '2012-01-01 00:00:27',\n               '2012-01-01 00:00:28', '2012-01-01 00:00:29',\n               '2012-01-01 00:00:30', '2012-01-01 00:00:31',\n               '2012-01-01 00:00:32', '2012-01-01 00:00:33',\n               '2012-01-01 00:00:34', '2012-01-01 00:00:35',\n               '2012-01-01 00:00:36', '2012-01-01 00:00:37',\n               '2012-01-01 00:00:38', '2012-01-01 00:00:39',\n               '2012-01-01 00:00:40', '2012-01-01 00:00:41',\n               '2012-01-01 00:00:42', '2012-01-01 00:00:43',\n               '2012-01-01 00:00:44', '2012-01-01 00:00:45',\n               '2012-01-01 00:00:46', '2012-01-01 00:00:47',\n               '2012-01-01 00:00:48', '2012-01-01 00:00:49',\n               '2012-01-01 00:00:50', '2012-01-01 00:00:51',\n               '2012-01-01 00:00:52', '2012-01-01 00:00:53',\n               '2012-01-01 00:00:54', '2012-01-01 00:00:55',\n               '2012-01-01 00:00:56', '2012-01-01 00:00:57',\n               '2012-01-01 00:00:58', '2012-01-01 00:00:59',\n               '2012-01-01 00:01:00', '2012-01-01 00:01:01',\n               '2012-01-01 00:01:02', '2012-01-01 00:01:03',\n               '2012-01-01 00:01:04', '2012-01-01 00:01:05',\n               '2012-01-01 00:01:06', '2012-01-01 00:01:07',\n               '2012-01-01 00:01:08', '2012-01-01 00:01:09',\n               '2012-01-01 00:01:10', '2012-01-01 00:01:11',\n               '2012-01-01 00:01:12', '2012-01-01 00:01:13',\n               '2012-01-01 00:01:14', '2012-01-01 00:01:15',\n               '2012-01-01 00:01:16', '2012-01-01 00:01:17',\n               '2012-01-01 00:01:18', '2012-01-01 00:01:19',\n               '2012-01-01 00:01:20', '2012-01-01 00:01:21',\n               '2012-01-01 00:01:22', '2012-01-01 00:01:23',\n               '2012-01-01 00:01:24', '2012-01-01 00:01:25',\n               '2012-01-01 00:01:26', '2012-01-01 00:01:27',\n               '2012-01-01 00:01:28', '2012-01-01 00:01:29',\n               '2012-01-01 00:01:30', '2012-01-01 00:01:31',\n               '2012-01-01 00:01:32', '2012-01-01 00:01:33',\n               '2012-01-01 00:01:34', '2012-01-01 00:01:35',\n               '2012-01-01 00:01:36', '2012-01-01 00:01:37',\n               '2012-01-01 00:01:38', '2012-01-01 00:01:39'],\n              dtype='datetime64[ns]', freq='S')"
     },
     "execution_count": 130,
     "metadata": {},
     "output_type": "execute_result"
    }
   ],
   "source": [
    "rng"
   ]
  },
  {
   "cell_type": "code",
   "execution_count": 131,
   "metadata": {},
   "outputs": [
    {
     "data": {
      "text/plain": "2012-01-01 00:00:00    330\n2012-01-01 00:00:01    247\n2012-01-01 00:00:02    209\n2012-01-01 00:00:03    295\n2012-01-01 00:00:04    115\n                      ... \n2012-01-01 00:01:35    151\n2012-01-01 00:01:36     22\n2012-01-01 00:01:37    239\n2012-01-01 00:01:38    318\n2012-01-01 00:01:39    262\nFreq: S, Length: 100, dtype: int32"
     },
     "execution_count": 131,
     "metadata": {},
     "output_type": "execute_result"
    }
   ],
   "source": [
    "ts"
   ]
  },
  {
   "cell_type": "code",
   "execution_count": 132,
   "metadata": {},
   "outputs": [
    {
     "data": {
      "text/plain": "2012-01-01    23864\nFreq: 5T, dtype: int32"
     },
     "execution_count": 132,
     "metadata": {},
     "output_type": "execute_result"
    }
   ],
   "source": [
    "ts.resample(\"5min\").sum()"
   ]
  },
  {
   "cell_type": "code",
   "execution_count": 133,
   "metadata": {},
   "outputs": [],
   "source": [
    "rng = pd.date_range(\"3/6/2012 00:00\", periods=5, freq=\"D\")"
   ]
  },
  {
   "cell_type": "code",
   "execution_count": 134,
   "metadata": {},
   "outputs": [],
   "source": [
    "ts = pd.Series(np.random.randn(len(rng)), rng)"
   ]
  },
  {
   "cell_type": "code",
   "execution_count": 135,
   "metadata": {},
   "outputs": [
    {
     "data": {
      "text/plain": "2012-03-06    1.098598\n2012-03-07    1.402618\n2012-03-08   -1.475423\n2012-03-09   -1.160387\n2012-03-10    0.168572\nFreq: D, dtype: float64"
     },
     "execution_count": 135,
     "metadata": {},
     "output_type": "execute_result"
    }
   ],
   "source": [
    "ts"
   ]
  },
  {
   "cell_type": "code",
   "execution_count": 136,
   "metadata": {},
   "outputs": [],
   "source": [
    "ts_utc = ts.tz_localize(\"UTC\")"
   ]
  },
  {
   "cell_type": "code",
   "execution_count": 137,
   "metadata": {},
   "outputs": [
    {
     "data": {
      "text/plain": "2012-03-06 00:00:00+00:00    1.098598\n2012-03-07 00:00:00+00:00    1.402618\n2012-03-08 00:00:00+00:00   -1.475423\n2012-03-09 00:00:00+00:00   -1.160387\n2012-03-10 00:00:00+00:00    0.168572\nFreq: D, dtype: float64"
     },
     "execution_count": 137,
     "metadata": {},
     "output_type": "execute_result"
    }
   ],
   "source": [
    "ts_utc"
   ]
  },
  {
   "cell_type": "code",
   "execution_count": 138,
   "metadata": {},
   "outputs": [
    {
     "data": {
      "text/plain": "2012-03-05 19:00:00-05:00    1.098598\n2012-03-06 19:00:00-05:00    1.402618\n2012-03-07 19:00:00-05:00   -1.475423\n2012-03-08 19:00:00-05:00   -1.160387\n2012-03-09 19:00:00-05:00    0.168572\nFreq: D, dtype: float64"
     },
     "execution_count": 138,
     "metadata": {},
     "output_type": "execute_result"
    }
   ],
   "source": [
    "ts_utc.tz_convert(\"US/Eastern\")"
   ]
  },
  {
   "cell_type": "code",
   "execution_count": 139,
   "metadata": {},
   "outputs": [],
   "source": [
    "rng = pd.date_range(\"1/1/2012\", periods=5, freq=\"M\")"
   ]
  },
  {
   "cell_type": "code",
   "execution_count": 140,
   "metadata": {},
   "outputs": [],
   "source": [
    "ts = pd.Series(np.random.randn(len(rng)), index=rng)"
   ]
  },
  {
   "cell_type": "code",
   "execution_count": 141,
   "metadata": {},
   "outputs": [
    {
     "data": {
      "text/plain": "2012-01-31   -0.470419\n2012-02-29    0.053148\n2012-03-31    0.538265\n2012-04-30    0.119569\n2012-05-31    0.966782\nFreq: M, dtype: float64"
     },
     "execution_count": 141,
     "metadata": {},
     "output_type": "execute_result"
    }
   ],
   "source": [
    "ts"
   ]
  },
  {
   "cell_type": "code",
   "execution_count": 142,
   "metadata": {},
   "outputs": [],
   "source": [
    "ps = ts.to_period()"
   ]
  },
  {
   "cell_type": "code",
   "execution_count": 143,
   "metadata": {},
   "outputs": [
    {
     "data": {
      "text/plain": "2012-01   -0.470419\n2012-02    0.053148\n2012-03    0.538265\n2012-04    0.119569\n2012-05    0.966782\nFreq: M, dtype: float64"
     },
     "execution_count": 143,
     "metadata": {},
     "output_type": "execute_result"
    }
   ],
   "source": [
    "ps"
   ]
  },
  {
   "cell_type": "code",
   "execution_count": 144,
   "metadata": {},
   "outputs": [
    {
     "data": {
      "text/plain": "2012-01-01   -0.470419\n2012-02-01    0.053148\n2012-03-01    0.538265\n2012-04-01    0.119569\n2012-05-01    0.966782\nFreq: MS, dtype: float64"
     },
     "execution_count": 144,
     "metadata": {},
     "output_type": "execute_result"
    }
   ],
   "source": [
    "ps.to_timestamp()"
   ]
  },
  {
   "cell_type": "code",
   "execution_count": 145,
   "metadata": {},
   "outputs": [],
   "source": [
    "prng = pd.period_range(\"1990Q1\", \"2000Q4\", freq=\"Q-NOV\")"
   ]
  },
  {
   "cell_type": "code",
   "execution_count": 146,
   "metadata": {},
   "outputs": [],
   "source": [
    "ts = pd.Series(np.random.randn(len(prng)), prng)"
   ]
  },
  {
   "cell_type": "code",
   "execution_count": 147,
   "metadata": {},
   "outputs": [],
   "source": [
    "ts.index = (prng.asfreq(\"M\", \"e\") + 1).asfreq(\"H\", \"s\") + 9"
   ]
  },
  {
   "cell_type": "code",
   "execution_count": 148,
   "metadata": {},
   "outputs": [
    {
     "data": {
      "text/plain": "1990-03-01 09:00   -1.493794\n1990-06-01 09:00   -0.354990\n1990-09-01 09:00    0.035000\n1990-12-01 09:00    0.378210\n1991-03-01 09:00    0.311956\n1991-06-01 09:00   -0.485431\n1991-09-01 09:00    0.493442\n1991-12-01 09:00    1.591661\n1992-03-01 09:00   -0.304726\n1992-06-01 09:00    0.410695\n1992-09-01 09:00   -1.544442\n1992-12-01 09:00   -1.195631\n1993-03-01 09:00   -0.483203\n1993-06-01 09:00   -1.278901\n1993-09-01 09:00    0.615658\n1993-12-01 09:00    2.169915\n1994-03-01 09:00    1.526507\n1994-06-01 09:00    0.397093\n1994-09-01 09:00    0.975741\n1994-12-01 09:00    0.406984\n1995-03-01 09:00    0.510502\n1995-06-01 09:00    0.299546\n1995-09-01 09:00    2.897832\n1995-12-01 09:00   -0.529756\n1996-03-01 09:00    0.491041\n1996-06-01 09:00    1.246121\n1996-09-01 09:00    0.015582\n1996-12-01 09:00    0.064200\n1997-03-01 09:00   -2.179083\n1997-06-01 09:00    0.200081\n1997-09-01 09:00    1.880857\n1997-12-01 09:00    0.221333\n1998-03-01 09:00    0.200863\n1998-06-01 09:00   -0.856406\n1998-09-01 09:00   -0.270531\n1998-12-01 09:00   -1.012127\n1999-03-01 09:00    0.321140\n1999-06-01 09:00   -0.727216\n1999-09-01 09:00    0.261068\n1999-12-01 09:00   -0.234878\n2000-03-01 09:00    0.177182\n2000-06-01 09:00   -1.663912\n2000-09-01 09:00    1.240420\n2000-12-01 09:00    2.015308\nFreq: H, dtype: float64"
     },
     "execution_count": 148,
     "metadata": {},
     "output_type": "execute_result"
    }
   ],
   "source": [
    "ts"
   ]
  },
  {
   "cell_type": "code",
   "execution_count": 149,
   "metadata": {},
   "outputs": [
    {
     "data": {
      "text/plain": "1990-03-01 09:00   -1.493794\n1990-06-01 09:00   -0.354990\n1990-09-01 09:00    0.035000\n1990-12-01 09:00    0.378210\n1991-03-01 09:00    0.311956\nFreq: H, dtype: float64"
     },
     "execution_count": 149,
     "metadata": {},
     "output_type": "execute_result"
    }
   ],
   "source": [
    "ts.head()"
   ]
  },
  {
   "cell_type": "markdown",
   "metadata": {},
   "source": [
    "# Categoricals"
   ]
  },
  {
   "cell_type": "code",
   "execution_count": 150,
   "metadata": {},
   "outputs": [],
   "source": [
    "df = pd.DataFrame({\"id\": [1,2,3,4,5,6], \"raw_grade\": [\"a\",\"b\",\"b\",\"a\",\"a\",\"e\"]})"
   ]
  },
  {
   "cell_type": "code",
   "execution_count": 151,
   "metadata": {},
   "outputs": [
    {
     "data": {
      "text/plain": "   id raw_grade\n0   1         a\n1   2         b\n2   3         b\n3   4         a\n4   5         a\n5   6         e",
      "text/html": "<div>\n<style scoped>\n    .dataframe tbody tr th:only-of-type {\n        vertical-align: middle;\n    }\n\n    .dataframe tbody tr th {\n        vertical-align: top;\n    }\n\n    .dataframe thead th {\n        text-align: right;\n    }\n</style>\n<table border=\"1\" class=\"dataframe\">\n  <thead>\n    <tr style=\"text-align: right;\">\n      <th></th>\n      <th>id</th>\n      <th>raw_grade</th>\n    </tr>\n  </thead>\n  <tbody>\n    <tr>\n      <th>0</th>\n      <td>1</td>\n      <td>a</td>\n    </tr>\n    <tr>\n      <th>1</th>\n      <td>2</td>\n      <td>b</td>\n    </tr>\n    <tr>\n      <th>2</th>\n      <td>3</td>\n      <td>b</td>\n    </tr>\n    <tr>\n      <th>3</th>\n      <td>4</td>\n      <td>a</td>\n    </tr>\n    <tr>\n      <th>4</th>\n      <td>5</td>\n      <td>a</td>\n    </tr>\n    <tr>\n      <th>5</th>\n      <td>6</td>\n      <td>e</td>\n    </tr>\n  </tbody>\n</table>\n</div>"
     },
     "execution_count": 151,
     "metadata": {},
     "output_type": "execute_result"
    }
   ],
   "source": [
    "df"
   ]
  },
  {
   "cell_type": "code",
   "execution_count": 152,
   "metadata": {},
   "outputs": [],
   "source": [
    "df[\"grade\"] = df[\"raw_grade\"].astype(\"category\")"
   ]
  },
  {
   "cell_type": "code",
   "execution_count": 153,
   "metadata": {},
   "outputs": [
    {
     "data": {
      "text/plain": "0    a\n1    b\n2    b\n3    a\n4    a\n5    e\nName: grade, dtype: category\nCategories (3, object): ['a', 'b', 'e']"
     },
     "execution_count": 153,
     "metadata": {},
     "output_type": "execute_result"
    }
   ],
   "source": [
    "df[\"grade\"]"
   ]
  },
  {
   "cell_type": "code",
   "execution_count": 154,
   "metadata": {},
   "outputs": [],
   "source": [
    "df[\"grade\"].cat.categories = [\"very good\", \"good\", \"very bad\"]"
   ]
  },
  {
   "cell_type": "code",
   "execution_count": 155,
   "metadata": {},
   "outputs": [
    {
     "data": {
      "text/plain": "0    very good\n1         good\n2         good\n3    very good\n4    very good\n5     very bad\nName: grade, dtype: category\nCategories (3, object): ['very good', 'good', 'very bad']"
     },
     "execution_count": 155,
     "metadata": {},
     "output_type": "execute_result"
    }
   ],
   "source": [
    "df[\"grade\"]"
   ]
  },
  {
   "cell_type": "code",
   "execution_count": 156,
   "metadata": {},
   "outputs": [],
   "source": [
    "df[\"grade\"] = df[\"grade\"].cat.set_categories([\"very bad\", \"bad\", \"medium\", \"good\", \"very good\"])"
   ]
  },
  {
   "cell_type": "code",
   "execution_count": 157,
   "metadata": {},
   "outputs": [
    {
     "data": {
      "text/plain": "0    very good\n1         good\n2         good\n3    very good\n4    very good\n5     very bad\nName: grade, dtype: category\nCategories (5, object): ['very bad', 'bad', 'medium', 'good', 'very good']"
     },
     "execution_count": 157,
     "metadata": {},
     "output_type": "execute_result"
    }
   ],
   "source": [
    "df[\"grade\"]"
   ]
  },
  {
   "cell_type": "code",
   "execution_count": 158,
   "metadata": {},
   "outputs": [
    {
     "data": {
      "text/plain": "   id raw_grade      grade\n5   6         e   very bad\n1   2         b       good\n2   3         b       good\n0   1         a  very good\n3   4         a  very good\n4   5         a  very good",
      "text/html": "<div>\n<style scoped>\n    .dataframe tbody tr th:only-of-type {\n        vertical-align: middle;\n    }\n\n    .dataframe tbody tr th {\n        vertical-align: top;\n    }\n\n    .dataframe thead th {\n        text-align: right;\n    }\n</style>\n<table border=\"1\" class=\"dataframe\">\n  <thead>\n    <tr style=\"text-align: right;\">\n      <th></th>\n      <th>id</th>\n      <th>raw_grade</th>\n      <th>grade</th>\n    </tr>\n  </thead>\n  <tbody>\n    <tr>\n      <th>5</th>\n      <td>6</td>\n      <td>e</td>\n      <td>very bad</td>\n    </tr>\n    <tr>\n      <th>1</th>\n      <td>2</td>\n      <td>b</td>\n      <td>good</td>\n    </tr>\n    <tr>\n      <th>2</th>\n      <td>3</td>\n      <td>b</td>\n      <td>good</td>\n    </tr>\n    <tr>\n      <th>0</th>\n      <td>1</td>\n      <td>a</td>\n      <td>very good</td>\n    </tr>\n    <tr>\n      <th>3</th>\n      <td>4</td>\n      <td>a</td>\n      <td>very good</td>\n    </tr>\n    <tr>\n      <th>4</th>\n      <td>5</td>\n      <td>a</td>\n      <td>very good</td>\n    </tr>\n  </tbody>\n</table>\n</div>"
     },
     "execution_count": 158,
     "metadata": {},
     "output_type": "execute_result"
    }
   ],
   "source": [
    "df.sort_values(by=\"grade\")"
   ]
  },
  {
   "cell_type": "code",
   "execution_count": 159,
   "metadata": {},
   "outputs": [
    {
     "data": {
      "text/plain": "grade\nvery bad     1\nbad          0\nmedium       0\ngood         2\nvery good    3\ndtype: int64"
     },
     "execution_count": 159,
     "metadata": {},
     "output_type": "execute_result"
    }
   ],
   "source": [
    "df.groupby(\"grade\").size()"
   ]
  },
  {
   "cell_type": "markdown",
   "metadata": {},
   "source": [
    "# Plotting"
   ]
  },
  {
   "cell_type": "code",
   "execution_count": 160,
   "metadata": {},
   "outputs": [],
   "source": [
    "import matplotlib.pyplot as plt"
   ]
  },
  {
   "cell_type": "code",
   "execution_count": 161,
   "metadata": {},
   "outputs": [],
   "source": [
    "plt.close(\"all\")"
   ]
  },
  {
   "cell_type": "code",
   "execution_count": 162,
   "metadata": {},
   "outputs": [],
   "source": [
    "ts = pd.Series(np.random.randn(1000), index=pd.date_range(\"1/1/2000\", periods=1000))"
   ]
  },
  {
   "cell_type": "code",
   "execution_count": 163,
   "metadata": {},
   "outputs": [],
   "source": [
    "ts = ts.cumsum()"
   ]
  },
  {
   "cell_type": "code",
   "execution_count": 164,
   "metadata": {},
   "outputs": [
    {
     "data": {
      "text/plain": "<Figure size 432x288 with 1 Axes>",
      "image/png": "[encoded data removed]"
     },
     "metadata": {
      "needs_background": "light"
     },
     "output_type": "display_data"
    }
   ],
   "source": [
    "ts.plot();"
   ]
  },
  {
   "cell_type": "code",
   "execution_count": 165,
   "metadata": {},
   "outputs": [],
   "source": [
    "df = pd.DataFrame(np.random.randn(1000, 4), index = ts.index, columns=[\"A\", \"B\", \"C\", \"D\"])"
   ]
  },
  {
   "cell_type": "code",
   "execution_count": 166,
   "metadata": {},
   "outputs": [],
   "source": [
    "df = df.cumsum()"
   ]
  },
  {
   "cell_type": "code",
   "execution_count": 167,
   "metadata": {},
   "outputs": [
    {
     "data": {
      "text/plain": "<Figure size 432x288 with 0 Axes>"
     },
     "metadata": {},
     "output_type": "display_data"
    }
   ],
   "source": [
    "plt.figure();"
   ]
  },
  {
   "cell_type": "code",
   "execution_count": 168,
   "metadata": {},
   "outputs": [
    {
     "data": {
      "text/plain": "<Figure size 432x288 with 1 Axes>",
      "image/png": "[encoded data removed]"
     },
     "metadata": {
      "needs_background": "light"
     },
     "output_type": "display_data"
    }
   ],
   "source": [
    "df.plot();"
   ]
  },
  {
   "cell_type": "code",
   "execution_count": 169,
   "metadata": {},
   "outputs": [
    {
     "name": "stderr",
     "output_type": "stream",
     "text": [
      "No handles with labels found to put in legend.\n"
     ]
    },
    {
     "data": {
      "text/plain": "<Figure size 432x288 with 1 Axes>",
      "image/png": "[encoded data removed]"
     },
     "metadata": {
      "needs_background": "light"
     },
     "output_type": "display_data"
    }
   ],
   "source": [
    "plt.legend(loc='best');"
   ]
  },
  {
   "cell_type": "code",
   "execution_count": 169,
   "metadata": {},
   "outputs": [],
   "source": []
  }
 ],
 "metadata": {
  "kernelspec": {
   "display_name": "PyCharm (scientificProject)",
   "language": "python",
   "name": "pycharm-5cc56f1b"
  },
  "language_info": {
   "codemirror_mode": {
    "name": "ipython",
    "version": 3
   },
   "file_extension": ".py",
   "mimetype": "text/x-python",
   "name": "python",
   "nbconvert_exporter": "python",
   "pygments_lexer": "ipython3",
   "version": "3.9.6"
  }
 },
 "nbformat": 4,
 "nbformat_minor": 1
}